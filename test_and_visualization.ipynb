{
 "cells": [
  {
   "cell_type": "markdown",
   "metadata": {},
   "source": [
    "## Import part"
   ]
  },
  {
   "cell_type": "code",
   "execution_count": 1,
   "metadata": {},
   "outputs": [],
   "source": [
    "import numpy as np\n",
    "import pandas as pd"
   ]
  },
  {
   "cell_type": "code",
   "execution_count": 2,
   "metadata": {},
   "outputs": [],
   "source": [
    "df = pd.read_csv('gsearch_jobs_fixed.csv')"
   ]
  },
  {
   "cell_type": "markdown",
   "metadata": {},
   "source": [
    "## observation part"
   ]
  },
  {
   "cell_type": "code",
   "execution_count": 7,
   "metadata": {},
   "outputs": [
    {
     "name": "stdout",
     "output_type": "stream",
     "text": [
      "Index(['job_index', 'title', 'company_name', 'location', 'via', 'description',\n",
      "       'extensions', 'job_id', 'thumbnail', 'posted_at', 'schedule_type',\n",
      "       'work_from_home', 'salary', 'search_term', 'date_time', 'commute_time',\n",
      "       'salary_pay', 'salary_rate', 'salary_avg', 'salary_min', 'salary_max',\n",
      "       'salary_hourly', 'salary_yearly', 'salary_standardized',\n",
      "       'description_tokens', 'search_location'],\n",
      "      dtype='object')\n"
     ]
    },
    {
     "data": {
      "text/html": [
       "<div>\n",
       "<style scoped>\n",
       "    .dataframe tbody tr th:only-of-type {\n",
       "        vertical-align: middle;\n",
       "    }\n",
       "\n",
       "    .dataframe tbody tr th {\n",
       "        vertical-align: top;\n",
       "    }\n",
       "\n",
       "    .dataframe thead th {\n",
       "        text-align: right;\n",
       "    }\n",
       "</style>\n",
       "<table border=\"1\" class=\"dataframe\">\n",
       "  <thead>\n",
       "    <tr style=\"text-align: right;\">\n",
       "      <th></th>\n",
       "      <th>job_index</th>\n",
       "      <th>title</th>\n",
       "      <th>company_name</th>\n",
       "      <th>location</th>\n",
       "      <th>via</th>\n",
       "      <th>description</th>\n",
       "      <th>extensions</th>\n",
       "      <th>job_id</th>\n",
       "      <th>thumbnail</th>\n",
       "      <th>posted_at</th>\n",
       "      <th>schedule_type</th>\n",
       "    </tr>\n",
       "  </thead>\n",
       "  <tbody>\n",
       "    <tr>\n",
       "      <th>0</th>\n",
       "      <td>1</td>\n",
       "      <td>Data Analyst</td>\n",
       "      <td>Chloeta</td>\n",
       "      <td>Oklahoma City, OK</td>\n",
       "      <td>via ZipRecruiter</td>\n",
       "      <td>Job Summary: The Data Analyst oversees data pr...</td>\n",
       "      <td>['21 hours ago', 'Full-time', 'Health insuranc...</td>\n",
       "      <td>eyJqb2JfdGl0bGUiOiJEYXRhIEFuYWx5c3QiLCJodGlkb2...</td>\n",
       "      <td>NaN</td>\n",
       "      <td>21 hours ago</td>\n",
       "      <td>Full-time</td>\n",
       "    </tr>\n",
       "    <tr>\n",
       "      <th>1</th>\n",
       "      <td>2</td>\n",
       "      <td>Junior Data Analyst/Scientist Role - Contract ...</td>\n",
       "      <td>Upwork</td>\n",
       "      <td>Anywhere</td>\n",
       "      <td>via Upwork</td>\n",
       "      <td>Company\\n\\nThe TAC Index provides independent,...</td>\n",
       "      <td>['17 hours ago', 'Work from home', 'Contractor...</td>\n",
       "      <td>eyJqb2JfdGl0bGUiOiJKdW5pb3IgRGF0YSBBbmFseXN0L1...</td>\n",
       "      <td>NaN</td>\n",
       "      <td>17 hours ago</td>\n",
       "      <td>Contractor</td>\n",
       "    </tr>\n",
       "    <tr>\n",
       "      <th>2</th>\n",
       "      <td>3</td>\n",
       "      <td>Data Analyst</td>\n",
       "      <td>ATC</td>\n",
       "      <td>United States</td>\n",
       "      <td>via LinkedIn</td>\n",
       "      <td>Job Title: Entry Level Business Analyst / Prod...</td>\n",
       "      <td>['12 hours ago', 'Full-time', 'Health insurance']</td>\n",
       "      <td>eyJqb2JfdGl0bGUiOiJEYXRhIEFuYWx5c3QiLCJodGlkb2...</td>\n",
       "      <td>https://encrypted-tbn0.gstatic.com/images?q=tb...</td>\n",
       "      <td>12 hours ago</td>\n",
       "      <td>Full-time</td>\n",
       "    </tr>\n",
       "    <tr>\n",
       "      <th>3</th>\n",
       "      <td>4</td>\n",
       "      <td>Data Analyst</td>\n",
       "      <td>Guidehouse</td>\n",
       "      <td>Topeka, KS</td>\n",
       "      <td>via Nexxt</td>\n",
       "      <td>Job Family :\\n\\nData Science &amp; Analysis (Digit...</td>\n",
       "      <td>['10 hours ago', 'Full-time', 'Health insuranc...</td>\n",
       "      <td>eyJqb2JfdGl0bGUiOiJEYXRhIEFuYWx5c3QiLCJodGlkb2...</td>\n",
       "      <td>https://encrypted-tbn0.gstatic.com/images?q=tb...</td>\n",
       "      <td>10 hours ago</td>\n",
       "      <td>Full-time</td>\n",
       "    </tr>\n",
       "    <tr>\n",
       "      <th>4</th>\n",
       "      <td>5</td>\n",
       "      <td>Data Analyst</td>\n",
       "      <td>AnMed Health LLC</td>\n",
       "      <td>Anywhere</td>\n",
       "      <td>via LinkedIn</td>\n",
       "      <td>AnMed is a dynamic, comprehensive health syste...</td>\n",
       "      <td>['18 hours ago', 'Work from home', 'Part-time'...</td>\n",
       "      <td>eyJqb2JfdGl0bGUiOiJEYXRhIEFuYWx5c3QiLCJodGlkb2...</td>\n",
       "      <td>NaN</td>\n",
       "      <td>18 hours ago</td>\n",
       "      <td>Part-time</td>\n",
       "    </tr>\n",
       "  </tbody>\n",
       "</table>\n",
       "</div>"
      ],
      "text/plain": [
       "   job_index                                              title  \\\n",
       "0          1                                       Data Analyst   \n",
       "1          2  Junior Data Analyst/Scientist Role - Contract ...   \n",
       "2          3                                       Data Analyst   \n",
       "3          4                                       Data Analyst   \n",
       "4          5                                       Data Analyst   \n",
       "\n",
       "       company_name                location               via  \\\n",
       "0           Chloeta    Oklahoma City, OK     via ZipRecruiter   \n",
       "1            Upwork               Anywhere         via Upwork   \n",
       "2               ATC        United States         via LinkedIn   \n",
       "3        Guidehouse           Topeka, KS            via Nexxt   \n",
       "4  AnMed Health LLC               Anywhere       via LinkedIn   \n",
       "\n",
       "                                         description  \\\n",
       "0  Job Summary: The Data Analyst oversees data pr...   \n",
       "1  Company\\n\\nThe TAC Index provides independent,...   \n",
       "2  Job Title: Entry Level Business Analyst / Prod...   \n",
       "3  Job Family :\\n\\nData Science & Analysis (Digit...   \n",
       "4  AnMed is a dynamic, comprehensive health syste...   \n",
       "\n",
       "                                          extensions  \\\n",
       "0  ['21 hours ago', 'Full-time', 'Health insuranc...   \n",
       "1  ['17 hours ago', 'Work from home', 'Contractor...   \n",
       "2  ['12 hours ago', 'Full-time', 'Health insurance']   \n",
       "3  ['10 hours ago', 'Full-time', 'Health insuranc...   \n",
       "4  ['18 hours ago', 'Work from home', 'Part-time'...   \n",
       "\n",
       "                                              job_id  \\\n",
       "0  eyJqb2JfdGl0bGUiOiJEYXRhIEFuYWx5c3QiLCJodGlkb2...   \n",
       "1  eyJqb2JfdGl0bGUiOiJKdW5pb3IgRGF0YSBBbmFseXN0L1...   \n",
       "2  eyJqb2JfdGl0bGUiOiJEYXRhIEFuYWx5c3QiLCJodGlkb2...   \n",
       "3  eyJqb2JfdGl0bGUiOiJEYXRhIEFuYWx5c3QiLCJodGlkb2...   \n",
       "4  eyJqb2JfdGl0bGUiOiJEYXRhIEFuYWx5c3QiLCJodGlkb2...   \n",
       "\n",
       "                                           thumbnail     posted_at  \\\n",
       "0                                                NaN  21 hours ago   \n",
       "1                                                NaN  17 hours ago   \n",
       "2  https://encrypted-tbn0.gstatic.com/images?q=tb...  12 hours ago   \n",
       "3  https://encrypted-tbn0.gstatic.com/images?q=tb...  10 hours ago   \n",
       "4                                                NaN  18 hours ago   \n",
       "\n",
       "  schedule_type  \n",
       "0     Full-time  \n",
       "1    Contractor  \n",
       "2     Full-time  \n",
       "3     Full-time  \n",
       "4     Part-time  "
      ]
     },
     "execution_count": 7,
     "metadata": {},
     "output_type": "execute_result"
    }
   ],
   "source": [
    "print(df.columns)\n",
    "df.iloc[:,:11].head()"
   ]
  },
  {
   "cell_type": "code",
   "execution_count": 22,
   "metadata": {},
   "outputs": [
    {
     "name": "stdout",
     "output_type": "stream",
     "text": [
      "53\n",
      "Junior Data Analyst/Scientist Role - Contract to hire\n"
     ]
    },
    {
     "data": {
      "text/plain": [
       "0                                         Data Analyst\n",
       "1    Junior Data Analyst/Scientist Role - Contract ...\n",
       "2                                         Data Analyst\n",
       "3                                         Data Analyst\n",
       "4                                         Data Analyst\n",
       "Name: title, dtype: object"
      ]
     },
     "execution_count": 22,
     "metadata": {},
     "output_type": "execute_result"
    }
   ],
   "source": [
    "print(len(df.iloc[1,1]))\n",
    "print(df.iloc[1,1])\n",
    "df.iloc[:,1].head()"
   ]
  },
  {
   "cell_type": "code",
   "execution_count": 26,
   "metadata": {},
   "outputs": [
    {
     "name": "stdout",
     "output_type": "stream",
     "text": [
      "29480\n",
      "29480 \t 10919\n"
     ]
    },
    {
     "data": {
      "text/plain": [
       "0    Job Summary: The Data Analyst oversees data pr...\n",
       "1    Company\\n\\nThe TAC Index provides independent,...\n",
       "2    Job Title: Entry Level Business Analyst / Prod...\n",
       "3    Job Family :\\n\\nData Science & Analysis (Digit...\n",
       "4    AnMed is a dynamic, comprehensive health syste...\n",
       "Name: description, dtype: object"
      ]
     },
     "execution_count": 26,
     "metadata": {},
     "output_type": "execute_result"
    }
   ],
   "source": [
    "print(len(df.iloc[10919,5]))\n",
    "# print(df.iloc[2,5])\n",
    "max_count = 0\n",
    "counti = 0\n",
    "for i in range(len(df)):\n",
    "    if len(df.iloc[i,5]) > max_count:\n",
    "        max_count = len(df.iloc[i,5])\n",
    "        counti = i\n",
    "print(max_count,'\\t',counti)\n",
    "df.iloc[:,5].head()"
   ]
  },
  {
   "cell_type": "code",
   "execution_count": 20,
   "metadata": {},
   "outputs": [
    {
     "name": "stdout",
     "output_type": "stream",
     "text": [
      "49\n",
      "<class 'str'>\n",
      "['17 hours ago', 'Work from home', 'Contractor', 'No degree mentioned']\n"
     ]
    },
    {
     "data": {
      "text/plain": [
       "0    ['21 hours ago', 'Full-time', 'Health insuranc...\n",
       "1    ['17 hours ago', 'Work from home', 'Contractor...\n",
       "2    ['12 hours ago', 'Full-time', 'Health insurance']\n",
       "3    ['10 hours ago', 'Full-time', 'Health insuranc...\n",
       "4    ['18 hours ago', 'Work from home', 'Part-time'...\n",
       "Name: extensions, dtype: object"
      ]
     },
     "execution_count": 20,
     "metadata": {},
     "output_type": "execute_result"
    }
   ],
   "source": [
    "print(len(df.iloc[2,6]))\n",
    "print(type(df.iloc[2,6]))\n",
    "print(df.iloc[1,6])\n",
    "df.iloc[:,6].head()"
   ]
  },
  {
   "cell_type": "code",
   "execution_count": 8,
   "metadata": {},
   "outputs": [
    {
     "data": {
      "text/html": [
       "<div>\n",
       "<style scoped>\n",
       "    .dataframe tbody tr th:only-of-type {\n",
       "        vertical-align: middle;\n",
       "    }\n",
       "\n",
       "    .dataframe tbody tr th {\n",
       "        vertical-align: top;\n",
       "    }\n",
       "\n",
       "    .dataframe thead th {\n",
       "        text-align: right;\n",
       "    }\n",
       "</style>\n",
       "<table border=\"1\" class=\"dataframe\">\n",
       "  <thead>\n",
       "    <tr style=\"text-align: right;\">\n",
       "      <th></th>\n",
       "      <th>work_from_home</th>\n",
       "      <th>salary</th>\n",
       "      <th>search_term</th>\n",
       "      <th>date_time</th>\n",
       "      <th>commute_time</th>\n",
       "      <th>salary_pay</th>\n",
       "      <th>salary_rate</th>\n",
       "      <th>salary_avg</th>\n",
       "      <th>salary_min</th>\n",
       "      <th>salary_max</th>\n",
       "    </tr>\n",
       "  </thead>\n",
       "  <tbody>\n",
       "    <tr>\n",
       "      <th>0</th>\n",
       "      <td>NaN</td>\n",
       "      <td>NaN</td>\n",
       "      <td>data analyst</td>\n",
       "      <td>8/3/2023 3:00</td>\n",
       "      <td>NaN</td>\n",
       "      <td>NaN</td>\n",
       "      <td>NaN</td>\n",
       "      <td>NaN</td>\n",
       "      <td>NaN</td>\n",
       "      <td>NaN</td>\n",
       "    </tr>\n",
       "    <tr>\n",
       "      <th>1</th>\n",
       "      <td>True</td>\n",
       "      <td>NaN</td>\n",
       "      <td>data analyst</td>\n",
       "      <td>8/3/2023 3:00</td>\n",
       "      <td>NaN</td>\n",
       "      <td>NaN</td>\n",
       "      <td>NaN</td>\n",
       "      <td>NaN</td>\n",
       "      <td>NaN</td>\n",
       "      <td>NaN</td>\n",
       "    </tr>\n",
       "    <tr>\n",
       "      <th>2</th>\n",
       "      <td>NaN</td>\n",
       "      <td>NaN</td>\n",
       "      <td>data analyst</td>\n",
       "      <td>8/3/2023 3:00</td>\n",
       "      <td>NaN</td>\n",
       "      <td>NaN</td>\n",
       "      <td>NaN</td>\n",
       "      <td>NaN</td>\n",
       "      <td>NaN</td>\n",
       "      <td>NaN</td>\n",
       "    </tr>\n",
       "    <tr>\n",
       "      <th>3</th>\n",
       "      <td>NaN</td>\n",
       "      <td>NaN</td>\n",
       "      <td>data analyst</td>\n",
       "      <td>8/3/2023 3:00</td>\n",
       "      <td>NaN</td>\n",
       "      <td>NaN</td>\n",
       "      <td>NaN</td>\n",
       "      <td>NaN</td>\n",
       "      <td>NaN</td>\n",
       "      <td>NaN</td>\n",
       "    </tr>\n",
       "    <tr>\n",
       "      <th>4</th>\n",
       "      <td>True</td>\n",
       "      <td>NaN</td>\n",
       "      <td>data analyst</td>\n",
       "      <td>8/3/2023 3:00</td>\n",
       "      <td>NaN</td>\n",
       "      <td>NaN</td>\n",
       "      <td>NaN</td>\n",
       "      <td>NaN</td>\n",
       "      <td>NaN</td>\n",
       "      <td>NaN</td>\n",
       "    </tr>\n",
       "  </tbody>\n",
       "</table>\n",
       "</div>"
      ],
      "text/plain": [
       "  work_from_home salary   search_term      date_time  commute_time salary_pay  \\\n",
       "0            NaN    NaN  data analyst  8/3/2023 3:00           NaN        NaN   \n",
       "1           True    NaN  data analyst  8/3/2023 3:00           NaN        NaN   \n",
       "2            NaN    NaN  data analyst  8/3/2023 3:00           NaN        NaN   \n",
       "3            NaN    NaN  data analyst  8/3/2023 3:00           NaN        NaN   \n",
       "4           True    NaN  data analyst  8/3/2023 3:00           NaN        NaN   \n",
       "\n",
       "  salary_rate  salary_avg  salary_min  salary_max  \n",
       "0         NaN         NaN         NaN         NaN  \n",
       "1         NaN         NaN         NaN         NaN  \n",
       "2         NaN         NaN         NaN         NaN  \n",
       "3         NaN         NaN         NaN         NaN  \n",
       "4         NaN         NaN         NaN         NaN  "
      ]
     },
     "execution_count": 8,
     "metadata": {},
     "output_type": "execute_result"
    }
   ],
   "source": [
    "df.iloc[:,11:21].head()"
   ]
  },
  {
   "cell_type": "code",
   "execution_count": 9,
   "metadata": {},
   "outputs": [
    {
     "data": {
      "text/html": [
       "<div>\n",
       "<style scoped>\n",
       "    .dataframe tbody tr th:only-of-type {\n",
       "        vertical-align: middle;\n",
       "    }\n",
       "\n",
       "    .dataframe tbody tr th {\n",
       "        vertical-align: top;\n",
       "    }\n",
       "\n",
       "    .dataframe thead th {\n",
       "        text-align: right;\n",
       "    }\n",
       "</style>\n",
       "<table border=\"1\" class=\"dataframe\">\n",
       "  <thead>\n",
       "    <tr style=\"text-align: right;\">\n",
       "      <th></th>\n",
       "      <th>salary_hourly</th>\n",
       "      <th>salary_yearly</th>\n",
       "      <th>salary_standardized</th>\n",
       "      <th>description_tokens</th>\n",
       "      <th>search_location</th>\n",
       "    </tr>\n",
       "  </thead>\n",
       "  <tbody>\n",
       "    <tr>\n",
       "      <th>0</th>\n",
       "      <td>NaN</td>\n",
       "      <td>NaN</td>\n",
       "      <td>NaN</td>\n",
       "      <td>['r', 'python']</td>\n",
       "      <td>United States</td>\n",
       "    </tr>\n",
       "    <tr>\n",
       "      <th>1</th>\n",
       "      <td>NaN</td>\n",
       "      <td>NaN</td>\n",
       "      <td>NaN</td>\n",
       "      <td>['r', 'matlab', 'python', 'mongodb', 'pandas',...</td>\n",
       "      <td>United States</td>\n",
       "    </tr>\n",
       "    <tr>\n",
       "      <th>2</th>\n",
       "      <td>NaN</td>\n",
       "      <td>NaN</td>\n",
       "      <td>NaN</td>\n",
       "      <td>[]</td>\n",
       "      <td>United States</td>\n",
       "    </tr>\n",
       "    <tr>\n",
       "      <th>3</th>\n",
       "      <td>NaN</td>\n",
       "      <td>NaN</td>\n",
       "      <td>NaN</td>\n",
       "      <td>['word', 'excel', 'r', 'tableau', 'perl', 'pyt...</td>\n",
       "      <td>United States</td>\n",
       "    </tr>\n",
       "    <tr>\n",
       "      <th>4</th>\n",
       "      <td>NaN</td>\n",
       "      <td>NaN</td>\n",
       "      <td>NaN</td>\n",
       "      <td>[]</td>\n",
       "      <td>United States</td>\n",
       "    </tr>\n",
       "  </tbody>\n",
       "</table>\n",
       "</div>"
      ],
      "text/plain": [
       "   salary_hourly  salary_yearly  salary_standardized  \\\n",
       "0            NaN            NaN                  NaN   \n",
       "1            NaN            NaN                  NaN   \n",
       "2            NaN            NaN                  NaN   \n",
       "3            NaN            NaN                  NaN   \n",
       "4            NaN            NaN                  NaN   \n",
       "\n",
       "                                  description_tokens search_location  \n",
       "0                                    ['r', 'python']   United States  \n",
       "1  ['r', 'matlab', 'python', 'mongodb', 'pandas',...   United States  \n",
       "2                                                 []   United States  \n",
       "3  ['word', 'excel', 'r', 'tableau', 'perl', 'pyt...   United States  \n",
       "4                                                 []   United States  "
      ]
     },
     "execution_count": 9,
     "metadata": {},
     "output_type": "execute_result"
    }
   ],
   "source": [
    "df.iloc[:,21:].head()"
   ]
  },
  {
   "cell_type": "markdown",
   "metadata": {},
   "source": [
    "## data manipulation and calculation part"
   ]
  },
  {
   "cell_type": "markdown",
   "metadata": {},
   "source": [
    "#### SQL"
   ]
  },
  {
   "cell_type": "code",
   "execution_count": null,
   "metadata": {},
   "outputs": [],
   "source": []
  },
  {
   "cell_type": "markdown",
   "metadata": {},
   "source": [
    "#### MongoDB"
   ]
  },
  {
   "cell_type": "markdown",
   "metadata": {},
   "source": [
    "##### remember to %pip install pymongo"
   ]
  },
  {
   "cell_type": "code",
   "execution_count": 13,
   "metadata": {},
   "outputs": [],
   "source": [
    "# %pip install pymongo\n",
    "import pymongo\n",
    "client = pymongo.MongoClient(\"mongodb://localhost:27017/\")\n",
    "db = client[\"Jobs\"]\n",
    "collection = db[\"job_posts\"]"
   ]
  },
  {
   "cell_type": "code",
   "execution_count": 45,
   "metadata": {},
   "outputs": [
    {
     "name": "stdout",
     "output_type": "stream",
     "text": [
      "38.71\n"
     ]
    }
   ],
   "source": [
    "from math import *\n",
    "results = {'test':[]}\n",
    "for i in range(100):\n",
    "    result = db.job_posts.find({'title' : 'Data Analyst'}).explain()['executionStats']['executionTimeMillis']\n",
    "    # print(result)\n",
    "    results['test'].append(result)\n",
    "print(sum(results['test'])/len(results['test']))"
   ]
  },
  {
   "cell_type": "markdown",
   "metadata": {},
   "source": [
    "## test part"
   ]
  },
  {
   "cell_type": "code",
   "execution_count": null,
   "metadata": {},
   "outputs": [],
   "source": []
  },
  {
   "cell_type": "markdown",
   "metadata": {},
   "source": [
    "## visualization part"
   ]
  },
  {
   "cell_type": "code",
   "execution_count": 3,
   "metadata": {},
   "outputs": [],
   "source": [
    "import matplotlib.pyplot as plt\n",
    "import seaborn"
   ]
  },
  {
   "cell_type": "code",
   "execution_count": 46,
   "metadata": {},
   "outputs": [
    {
     "data": {
      "image/png": "[encoded data removed]",
      "text/plain": [
       "<Figure size 640x480 with 1 Axes>"
      ]
     },
     "metadata": {},
     "output_type": "display_data"
    }
   ],
   "source": [
    "plt.plot(results['test'])\n",
    "plt.show()"
   ]
  },
  {
   "cell_type": "markdown",
   "metadata": {},
   "source": [
    "## export part"
   ]
  }
 ],
 "metadata": {
  "kernelspec": {
   "display_name": "base",
   "language": "python",
   "name": "python3"
  },
  "language_info": {
   "codemirror_mode": {
    "name": "ipython",
    "version": 3
   },
   "file_extension": ".py",
   "mimetype": "text/x-python",
   "name": "python",
   "nbconvert_exporter": "python",
   "pygments_lexer": "ipython3",
   "version": "3.9.16"
  }
 },
 "nbformat": 4,
 "nbformat_minor": 2
}

{
 "cells": [
  {
   "cell_type": "code",
   "execution_count": 1,
   "metadata": {},
   "outputs": [],
   "source": [
    "from neo4j import GraphDatabase\n",
    "from neo4j import Query\n",
    "import time\n",
    "import numpy as np\n",
    "import pandas as pd\n",
    "import random"
   ]
  },
  {
   "cell_type": "markdown",
   "metadata": {},
   "source": [
    "## Create Dataset"
   ]
  },
  {
   "cell_type": "code",
   "execution_count": 2,
   "metadata": {},
   "outputs": [
    {
     "name": "stdout",
     "output_type": "stream",
     "text": [
      "{'parent': ['root'], 'child': ['Node1'], 'relationshiptype': ['Star']}\n",
      "{'root': {'children': [['Node1'], []], 'ancestors': [[]], 'children_pattern': ['Star', 'R']}, 'Node1': {'children': [[]], 'ancestors': [[], ['root']], 'children_pattern': ['Star', 'R']}}\n",
      "{'Node1': {'parent': {'Star': 'root'}}}\n"
     ]
    }
   ],
   "source": [
    "# define the choice of children patterns.\n",
    "child_patterns = [['Star', 'E'], ['Star', 'R'], ['A', 'E'], ['A', 'R'], ['M', 'O'], ['O', 'E'], ['O', 'R']]\n",
    "\n",
    "# Initialize the datasets and the first two node for output\n",
    "root_pattern = random.choice(child_patterns)    # select a pattern for root\n",
    "root_1 = root_pattern[0]    # indicate the realtionshiptype for root to 1\n",
    "output_initial = {'parent':['root'], 'child':['Node1'], 'relationshiptype':[root_1]}\n",
    "\n",
    "# Define and initialize the nodes we can choose to start and end\n",
    "nodes_start_initial = {'root':{'children':[['Node1']], 'ancestors':[[]], 'children_pattern':root_pattern}}\n",
    "nodes_start_initial['Node1'] = {'children':[[]], 'ancestors':nodes_start_initial['root']['ancestors']+[['root']], 'children_pattern':random.choice(child_patterns)} # use the attribute of python shallow copy for ancestors, so that we can do change at same time\n",
    "nodes_end_initial = {'Node1':{'parent':{root_1:'root'}}}\n",
    "nodes_start_initial['root']['children'] = nodes_start_initial['root']['children'] + nodes_start_initial['Node1']['children']\n",
    "\n",
    "# nodes_start['root']['ancestors'][0].append(1) #check for the design\n",
    "print(output_initial)\n",
    "print(nodes_start_initial)\n",
    "print(nodes_end_initial)"
   ]
  },
  {
   "cell_type": "code",
   "execution_count": 3,
   "metadata": {},
   "outputs": [],
   "source": [
    "# Define function to delete node in nodes_end\n",
    "def delete_node_end(end_node:str, nodes_end:dict) -> None:\n",
    "    if len(nodes_end[end_node]['parent']) == 2:\n",
    "        del nodes_end[end_node]\n",
    "    if 'M' in list(nodes_end[end_node]['parent'].keys()):\n",
    "        del nodes_end[end_node]\n",
    "\n",
    "delete_node_end('Node1', nodes_end_initial)\n",
    "\n",
    "# Define function to get a node's nonancestors\n",
    "def get_nonancestor(start_node:str, nodes_start:dict,nodes_end:dict):\n",
    "    ancestors = list(set(item for sublist in nodes_start[start_node]['ancestors'] for item in sublist))\n",
    "    nonancestors = [item for item in list(nodes_end.keys()) if item not in ancestors+[start_node]+nodes_start[start_node]['children'][0]]\n",
    "    # print(ancestors+[start_node]+nodes_start[start_node]['children'][0],nonancestors)\n",
    "    return [ancestors,nonancestors]\n",
    "\n",
    "# Define function to get a node's nonchildren\n",
    "def get_nonchildren(start_node:str, nodes_start:dict, nodes_end:dict):\n",
    "    children = list(set(item for sublist in nodes_start[start_node]['children'] for item in sublist))\n",
    "    nonchildren = [item for item in list(nodes_end.keys()) if item not in children+[start_node]]\n",
    "    # print(children+[start_node],nonchildren)\n",
    "    return [children,nonchildren]\n",
    "\n",
    "# Define function to add relationship to the graph\n",
    "def add_relationship(nodes_start: dict, nodes_end: dict, output: dict, node_count, child_patterns = child_patterns):\n",
    "    start_node = random.choice(list(nodes_start.keys())) # select the start node\n",
    "    end_node_type = random.choice(['new','old'])    # select a type for end_node with probability 0.5\n",
    "\n",
    "    if  len(nodes_end) != 0:    # get the nonancestor list\n",
    "        end_node = random.choice(list(nodes_end.keys()))    # set a old nodes for the temp selected end_node\n",
    "        nonancestor = get_nonancestor(start_node,nodes_start, nodes_end)[1]  # get the nonancestors for temp selected end_node\n",
    "        # nonchildren = get_nonchildren(start_node, nodes_start, nodes_end)[1] # get non children\n",
    "\n",
    "    if len(nodes_end) == 0 or len(nonancestor) == 0: # set the type to new when there's not a choice\n",
    "        end_node_type = 'new'\n",
    "\n",
    "    if end_node_type == 'old':   # update data if type = 'old'   \n",
    "        end_node = random.choice(nonancestor)   # choose the start node for this situation.\n",
    "        # print('old',start_node,end_node,nodes_start[start_node]) # code for check\n",
    "        node_pattern = nodes_start[start_node]['children_pattern'][1] # get the pattern for end_node \n",
    "        \n",
    "        # updata nodes_end\n",
    "        nodes_end[end_node]['parent'][node_pattern] = start_node    # update nodes_end with new relationship\n",
    "        del nodes_end[end_node] # delete the nodes that cannot be selected anymore\n",
    "        \n",
    "        # updata output\n",
    "        output['parent'].append(start_node)\n",
    "        output['child'].append(end_node)\n",
    "        output['relationshiptype'].append(node_pattern)\n",
    "        \n",
    "        # updata nodes_start\n",
    "        nodes_start[start_node]['children'][0].append(end_node)\n",
    "        nodes_start[start_node]['children'] = nodes_start[start_node]['children'] + nodes_start[end_node]['children']\n",
    "        nodes_start[end_node]['ancestors'][-1].append(start_node)\n",
    "        nodes_start[end_node]['ancestors'] = nodes_start[start_node]['ancestors'] + nodes_start[end_node]['ancestors']\n",
    "\n",
    "    else:   # update data if type = 'new' \n",
    "        # print('new', start_node,nodes_start[start_node])  # code for check\n",
    "        node_pattern = nodes_start[start_node]['children_pattern'][0]   # should not get a 'E' or 'R'relaitonship with new node,incase it just end with it finally\n",
    "        end_node = 'Node' + str(node_count) # Define the name for new node\n",
    "        node_count += 1 # update node_count\n",
    "\n",
    "        # update output\n",
    "        output['parent'].append(start_node)\n",
    "        output['child'].append(end_node)\n",
    "        output['relationshiptype'].append(node_pattern)\n",
    "\n",
    "        # update nodes_end\n",
    "        nodes_end[end_node] = {'parent':{}} # initialize node_end for new node\n",
    "        nodes_end[end_node]['parent'][node_pattern] = start_node    # update nodes_end with new relationship\n",
    "        delete_node_end(end_node,nodes_end) # delete the nodes that cannot be selected anymore\n",
    "\n",
    "        # update nodes_start\n",
    "        new_node_pattern = random.choice(child_patterns) # select a pattern for new node\n",
    "        # print(new_node_pattern) # code for check\n",
    "        nodes_start[end_node] = {'children':[[]], 'ancestors':[[]], 'children_pattern':new_node_pattern} # initialize node_end for new node\n",
    "        nodes_start[start_node]['children'][0].append(end_node)\n",
    "        nodes_start[start_node]['children'] = nodes_start[start_node]['children'] + nodes_start[end_node]['children']\n",
    "        nodes_start[end_node]['ancestors'][-1].append(start_node)\n",
    "        # print(nodes_start[end_node]['ancestors'][-1])\n",
    "        nodes_start[end_node]['ancestors'] = nodes_start[start_node]['ancestors'] + nodes_start[end_node]['ancestors']\n",
    "    return [nodes_start, nodes_end, output, node_count]\n",
    "        \n",
    "        \n"
   ]
  },
  {
   "cell_type": "code",
   "execution_count": 289,
   "metadata": {},
   "outputs": [
    {
     "name": "stdout",
     "output_type": "stream",
     "text": [
      "{'root': {'children': [['Node1'], ['Node2']], 'ancestors': [[]], 'children_pattern': ['M', 'O']}, 'Node1': {'children': [['Node2'], []], 'ancestors': [[], ['root']], 'children_pattern': ['M', 'O']}, 'Node2': {'children': [[]], 'ancestors': [[], ['root'], ['Node1']], 'children_pattern': ['Star', 'E']}}\n",
      "{}\n",
      "{'parent': ['root', 'Node1'], 'child': ['Node1', 'Node2'], 'relationshiptype': ['M', 'M']}\n"
     ]
    }
   ],
   "source": [
    "output,nodes_start,nodes_end = copy.deepcopy(output_initial),copy.deepcopy(nodes_start_initial),copy.deepcopy(nodes_end_initial)\n",
    "node_count = len(nodes_start)\n",
    "nodes_start, nodes_end, output, node_count = add_relationship(nodes_start, nodes_end, output, node_count, child_patterns)\n",
    "print(nodes_start)\n",
    "print(nodes_end)\n",
    "print(output)"
   ]
  },
  {
   "cell_type": "code",
   "execution_count": 292,
   "metadata": {},
   "outputs": [
    {
     "name": "stdout",
     "output_type": "stream",
     "text": [
      "{'root': {'children': [['Node1', 'Node4'], ['Node2', 'Node3'], []], 'ancestors': [[]], 'children_pattern': ['M', 'O']}, 'Node1': {'children': [['Node2', 'Node3'], [], ['Node5']], 'ancestors': [[], ['root']], 'children_pattern': ['M', 'O']}, 'Node2': {'children': [[]], 'ancestors': [[], ['root'], ['Node1']], 'children_pattern': ['Star', 'E']}, 'Node3': {'children': [['Node5'], []], 'ancestors': [[], ['root'], ['Node1']], 'children_pattern': ['Star', 'E']}, 'Node4': {'children': [[]], 'ancestors': [[], ['root']], 'children_pattern': ['O', 'E']}, 'Node5': {'children': [[]], 'ancestors': [[], ['root'], ['Node1'], ['Node3']], 'children_pattern': ['O', 'R']}}\n",
      "{'Node5': {'parent': {'Star': 'Node3'}}}\n",
      "{'parent': ['root', 'Node1', 'Node1', 'root', 'Node3'], 'child': ['Node1', 'Node2', 'Node3', 'Node4', 'Node5'], 'relationshiptype': ['M', 'M', 'M', 'M', 'Star']}\n"
     ]
    }
   ],
   "source": [
    "nodes_start, nodes_end, output, node_count = add_relationship(nodes_start, nodes_end, output, node_count, child_patterns)\n",
    "print(nodes_start)\n",
    "print(nodes_end)\n",
    "print(output)"
   ]
  },
  {
   "cell_type": "code",
   "execution_count": 4,
   "metadata": {},
   "outputs": [],
   "source": [
    "import copy\n",
    "# Define how many rows we want\n",
    "num_rows1 = 500 - 1\n",
    "num_rows2 = 1000 - 1\n",
    "num_rows3 = 10000 - 1\n",
    "num_rows4 = 20000 - 1\n",
    "\n",
    "# Initialize the parameters\n",
    "output,nodes_start,nodes_end = copy.deepcopy(output_initial),copy.deepcopy(nodes_start_initial),copy.deepcopy(nodes_end_initial)\n",
    "node_count = len(nodes_start)\n",
    "# print(output,'\\n',nodes_start,'\\n',nodes_end,'\\n',node_count) #code for check initial\n",
    "# run and get output with size 500\n",
    "for _ in range(num_rows1):\n",
    "    nodes_start, nodes_end, output, node_count = add_relationship(nodes_start, nodes_end, output, node_count, child_patterns)\n",
    "output_500 = output\n",
    "\n",
    "# # run with size 1k\n",
    "# output,nodes_start,nodes_end = copy.deepcopy(output_initial),copy.deepcopy(nodes_start_initial),copy.deepcopy(nodes_end_initial)\n",
    "# node_count = len(nodes_start)\n",
    "# # print(output,'\\n',nodes_start,'\\n',nodes_end,'\\n',node_count) # code for check initial\n",
    "# for _ in range(num_rows2):\n",
    "#     nodes_start, nodes_end, output, node_count = add_relationship(nodes_start, nodes_end, output, node_count, child_patterns)\n",
    "# output_1k = output\n",
    "\n",
    "# # run with size 10k\n",
    "# output,nodes_start,nodes_end = copy.deepcopy(output_initial),copy.deepcopy(nodes_start_initial),copy.deepcopy(nodes_end_initial)\n",
    "# node_count = len(nodes_start)\n",
    "# for _ in range(num_rows3):\n",
    "#     nodes_start, nodes_end, output, node_count = add_relationship(nodes_start, nodes_end, output, node_count, child_patterns)\n",
    "# output_10k = output\n",
    "\n",
    "# # run with size 20k\n",
    "# output,nodes_start,nodes_end = copy.deepcopy(output_initial),copy.deepcopy(nodes_start_initial),copy.deepcopy(nodes_end_initial)\n",
    "# node_count = len(nodes_start)\n",
    "# for _ in range(num_rows4):\n",
    "#     nodes_start, nodes_end, output, node_count = add_relationship(nodes_start, nodes_end, output, node_count, child_patterns)\n",
    "# output_20k = output"
   ]
  },
  {
   "cell_type": "code",
   "execution_count": 309,
   "metadata": {},
   "outputs": [
    {
     "name": "stdout",
     "output_type": "stream",
     "text": [
      "Node257\n",
      "{'parent': ['root', 'root', 'root', 'Node2', 'root', 'Node3', 'root', 'Node1', 'Node3', 'Node3', 'Node3', 'Node5', 'Node5', 'Node7', 'Node5', 'Node9', 'Node9', 'Node2', 'Node11', 'Node5', 'root', 'Node3', 'Node7', 'Node7', 'Node13', 'Node1', 'Node1', 'Node11', 'Node10', 'Node5', 'Node2', 'Node20', 'Node20', 'Node22', 'Node19', 'Node8', 'Node8', 'Node11', 'Node4', 'root', 'Node5', 'Node14', 'Node6', 'Node14', 'Node10', 'Node17', 'Node20', 'Node10', 'Node23', 'root', 'Node23', 'Node26', 'Node10', 'Node19', 'Node10', 'root', 'Node6', 'Node18', 'Node5', 'Node2', 'Node33', 'Node32', 'Node13', 'Node14', 'Node36', 'Node14', 'Node14', 'Node25', 'Node37', 'Node3', 'Node27', 'Node13', 'Node6', 'Node12', 'Node37', 'Node1', 'Node14', 'Node34', 'Node11', 'Node1', 'Node40', 'Node23', 'Node34', 'Node32', 'Node4', 'Node4', 'Node15', 'Node12', 'Node1', 'Node24', 'Node32', 'Node43', 'Node10', 'Node16', 'Node33', 'Node47', 'Node53', 'Node37', 'Node9', 'Node32', 'Node20', 'Node26', 'Node49', 'Node19', 'Node23', 'Node58', 'Node45', 'Node48', 'Node52', 'Node39', 'Node56', 'Node12', 'Node62', 'Node39', 'Node30', 'Node37', 'Node54', 'Node64', 'Node44', 'Node60', 'Node55', 'Node57', 'Node63', 'Node4', 'Node38', 'Node28', 'Node46', 'Node2', 'Node40', 'Node48', 'Node67', 'Node37', 'Node35', 'Node33', 'Node14', 'Node76', 'Node12', 'Node57', 'Node66', 'Node44', 'Node29', 'Node79', 'Node53', 'Node5', 'Node52', 'Node46', 'Node63', 'Node5', 'Node33', 'Node34', 'Node48', 'Node23', 'Node66', 'Node58', 'Node64', 'Node17', 'Node2', 'Node72', 'Node6', 'Node49', 'Node74', 'Node21', 'Node78', 'Node29', 'Node86', 'Node24', 'Node87', 'Node23', 'Node83', 'Node79', 'Node22', 'Node80', 'Node15', 'Node27', 'Node18', 'Node47', 'Node36', 'root', 'Node67', 'root', 'Node19', 'Node30', 'Node59', 'Node9', 'Node15', 'Node1', 'Node10', 'Node79', 'Node50', 'Node90', 'Node100', 'Node9', 'Node82', 'Node25', 'Node87', 'Node25', 'Node104', 'Node45', 'Node50', 'Node29', 'Node10', 'Node101', 'Node101', 'Node6', 'Node42', 'Node60', 'Node72', 'Node1', 'Node48', 'Node48', 'Node84', 'Node70', 'Node12', 'Node93', 'Node70', 'Node7', 'Node53', 'Node33', 'Node58', 'Node91', 'Node23', 'Node29', 'Node95', 'Node110', 'Node53', 'Node22', 'Node106', 'Node19', 'Node52', 'Node15', 'Node86', 'Node5', 'Node96', 'Node98', 'Node90', 'Node16', 'Node9', 'Node114', 'Node22', 'Node8', 'Node54', 'Node59', 'Node12', 'Node23', 'Node2', 'Node91', 'Node15', 'Node104', 'Node50', 'Node21', 'Node98', 'Node105', 'Node64', 'Node20', 'Node99', 'Node116', 'Node70', 'Node103', 'Node74', 'Node26', 'Node81', 'Node120', 'Node29', 'Node83', 'Node123', 'Node68', 'Node42', 'Node101', 'Node109', 'Node50', 'Node56', 'root', 'Node121', 'Node81', 'Node31', 'Node45', 'Node56', 'Node2', 'Node116', 'Node42', 'Node103', 'Node11', 'Node45', 'Node140', 'Node147', 'Node65', 'Node69', 'Node119', 'Node19', 'Node43', 'Node75', 'Node108', 'Node18', 'Node53', 'Node123', 'Node20', 'Node140', 'Node124', 'Node144', 'Node42', 'Node119', 'Node40', 'Node37', 'Node122', 'Node25', 'Node88', 'Node31', 'Node52', 'Node54', 'Node101', 'Node135', 'Node161', 'Node3', 'Node68', 'Node147', 'Node26', 'Node11', 'Node125', 'Node5', 'Node7', 'Node57', 'Node117', 'Node69', 'Node36', 'Node38', 'Node25', 'Node15', 'Node149', 'Node111', 'Node76', 'Node7', 'Node128', 'Node134', 'Node107', 'Node61', 'Node106', 'Node103', 'Node60', 'Node14', 'Node9', 'Node50', 'Node121', 'Node48', 'Node1', 'Node30', 'Node157', 'Node147', 'Node35', 'Node135', 'Node2', 'Node58', 'Node160', 'Node136', 'Node95', 'Node130', 'Node76', 'Node7', 'Node151', 'Node90', 'Node169', 'Node52', 'Node96', 'Node34', 'Node48', 'Node21', 'Node145', 'Node96', 'Node86', 'Node116', 'Node118', 'Node72', 'Node99', 'Node11', 'Node159', 'Node128', 'Node87', 'Node156', 'Node4', 'Node8', 'Node112', 'Node187', 'Node106', 'Node7', 'Node121', 'Node5', 'Node62', 'Node4', 'Node164', 'Node51', 'Node2', 'Node2', 'Node157', 'Node8', 'Node170', 'Node179', 'Node20', 'Node192', 'Node97', 'Node123', 'Node68', 'Node183', 'Node30', 'Node140', 'Node62', 'Node96', 'Node151', 'Node191', 'Node189', 'Node201', 'Node198', 'Node193', 'Node32', 'Node11', 'Node180', 'Node136', 'Node94', 'Node164', 'Node57', 'Node130', 'Node193', 'Node28', 'Node98', 'Node94', 'Node23', 'Node153', 'Node33', 'Node115', 'Node151', 'Node41', 'Node174', 'Node216', 'Node215', 'Node207', 'Node53', 'Node13', 'Node35', 'Node122', 'Node104', 'Node149', 'Node226', 'Node87', 'Node43', 'Node171', 'Node26', 'Node153', 'Node178', 'Node118', 'Node179', 'Node133', 'Node36', 'Node90', 'Node76', 'Node11', 'Node71', 'Node116', 'Node107', 'Node144', 'Node161', 'Node153', 'Node88', 'Node169', 'Node76', 'Node99', 'Node217', 'Node126', 'Node63', 'Node130', 'Node108', 'Node143', 'Node186', 'Node146', 'Node194', 'Node165', 'Node220', 'Node202', 'Node69', 'Node71', 'Node146', 'Node208', 'Node123', 'Node7', 'Node92', 'Node136', 'Node30', 'Node98', 'Node29', 'Node158', 'Node131', 'Node198', 'Node64', 'Node48', 'Node97', 'Node96', 'Node65', 'Node189', 'Node248', 'Node156', 'Node88', 'Node257', 'Node185'], 'child': ['Node1', 'Node2', 'Node3', 'Node1', 'Node4', 'Node2', 'Node5', 'Node5', 'Node6', 'Node7', 'Node4', 'Node8', 'Node6', 'Node8', 'Node9', 'Node10', 'Node11', 'Node11', 'Node10', 'Node12', 'Node13', 'Node14', 'Node15', 'Node14', 'Node3', 'Node12', 'Node16', 'Node17', 'Node18', 'Node19', 'Node20', 'Node21', 'Node22', 'Node23', 'Node7', 'Node21', 'Node18', 'Node24', 'Node19', 'Node16', 'Node22', 'Node24', 'Node15', 'Node25', 'Node25', 'Node23', 'Node26', 'Node27', 'Node28', 'Node28', 'Node29', 'Node30', 'Node17', 'Node31', 'Node32', 'Node33', 'Node29', 'Node30', 'Node34', 'Node35', 'Node31', 'Node36', 'Node37', 'Node20', 'Node38', 'Node35', 'Node39', 'Node27', 'Node40', 'Node41', 'Node42', 'Node36', 'Node43', 'Node44', 'Node41', 'Node45', 'Node46', 'Node47', 'Node48', 'Node47', 'Node49', 'Node50', 'Node42', 'Node48', 'Node46', 'Node51', 'Node52', 'Node53', 'Node40', 'Node50', 'Node43', 'Node54', 'Node49', 'Node44', 'Node34', 'Node45', 'Node37', 'Node38', 'Node55', 'Node56', 'Node57', 'Node58', 'Node59', 'Node54', 'Node60', 'Node61', 'Node62', 'Node63', 'Node62', 'Node9', 'Node52', 'Node64', 'Node65', 'Node59', 'Node66', 'Node67', 'Node68', 'Node69', 'Node33', 'Node53', 'Node70', 'Node71', 'Node72', 'Node61', 'Node73', 'Node64', 'Node74', 'Node75', 'Node55', 'Node65', 'Node76', 'Node75', 'Node73', 'Node77', 'Node68', 'Node72', 'Node56', 'Node78', 'Node78', 'Node51', 'Node79', 'Node80', 'Node80', 'Node76', 'Node81', 'Node57', 'Node70', 'Node26', 'Node71', 'Node60', 'Node79', 'Node66', 'Node58', 'Node82', 'Node67', 'Node77', 'Node83', 'Node84', 'Node63', 'Node85', 'Node83', 'Node69', 'Node32', 'Node86', 'Node87', 'Node82', 'Node74', 'Node88', 'Node81', 'Node89', 'Node90', 'Node91', 'Node39', 'Node92', 'Node87', 'Node93', 'Node94', 'Node91', 'Node95', 'Node96', 'Node85', 'Node94', 'Node88', 'Node89', 'Node93', 'Node13', 'Node97', 'Node98', 'Node99', 'Node100', 'Node101', 'Node92', 'Node96', 'Node102', 'Node103', 'Node104', 'Node105', 'Node84', 'Node97', 'Node95', 'Node102', 'Node106', 'Node107', 'Node90', 'Node99', 'Node86', 'Node107', 'Node103', 'Node108', 'Node104', 'Node109', 'Node105', 'Node110', 'Node101', 'Node110', 'Node108', 'Node111', 'Node112', 'Node113', 'Node114', 'Node114', 'Node112', 'Node115', 'Node106', 'Node109', 'Node116', 'Node111', 'Node113', 'Node98', 'Node116', 'Node117', 'Node115', 'Node118', 'Node119', 'Node120', 'Node121', 'Node122', 'Node122', 'Node121', 'Node117', 'Node123', 'Node123', 'Node124', 'Node119', 'Node118', 'Node124', 'Node100', 'Node120', 'Node125', 'Node126', 'Node126', 'Node125', 'Node127', 'Node128', 'Node129', 'Node129', 'Node130', 'Node127', 'Node128', 'Node131', 'Node132', 'Node133', 'Node134', 'Node135', 'Node136', 'Node137', 'Node138', 'Node138', 'Node139', 'Node140', 'Node135', 'Node141', 'Node141', 'Node140', 'Node134', 'Node142', 'Node143', 'Node130', 'Node144', 'Node145', 'Node143', 'Node132', 'Node146', 'Node147', 'Node144', 'Node139', 'Node148', 'Node149', 'Node131', 'Node149', 'Node136', 'Node150', 'Node145', 'Node151', 'Node152', 'Node153', 'Node137', 'Node150', 'Node153', 'Node154', 'Node151', 'Node155', 'Node156', 'Node154', 'Node147', 'Node157', 'Node158', 'Node159', 'Node159', 'Node160', 'Node161', 'Node162', 'Node152', 'Node142', 'Node157', 'Node156', 'Node163', 'Node133', 'Node164', 'Node163', 'Node165', 'Node162', 'Node155', 'Node165', 'Node166', 'Node165', 'Node164', 'Node166', 'Node160', 'Node146', 'Node148', 'Node167', 'Node161', 'Node167', 'Node168', 'Node168', 'Node169', 'Node170', 'Node171', 'Node169', 'Node170', 'Node158', 'Node171', 'Node172', 'Node173', 'Node173', 'Node172', 'Node174', 'Node175', 'Node175', 'Node176', 'Node174', 'Node177', 'Node177', 'Node176', 'Node178', 'Node179', 'Node178', 'Node179', 'Node180', 'Node181', 'Node180', 'Node182', 'Node183', 'Node182', 'Node183', 'Node181', 'Node184', 'Node184', 'Node185', 'Node186', 'Node185', 'Node186', 'Node187', 'Node187', 'Node188', 'Node189', 'Node188', 'Node188', 'Node190', 'Node189', 'Node191', 'Node190', 'Node191', 'Node192', 'Node192', 'Node193', 'Node193', 'Node194', 'Node194', 'Node195', 'Node196', 'Node197', 'Node197', 'Node198', 'Node195', 'Node196', 'Node199', 'Node200', 'Node201', 'Node201', 'Node202', 'Node203', 'Node203', 'Node198', 'Node204', 'Node204', 'Node205', 'Node206', 'Node207', 'Node208', 'Node209', 'Node199', 'Node210', 'Node211', 'Node212', 'Node213', 'Node205', 'Node214', 'Node215', 'Node209', 'Node207', 'Node216', 'Node200', 'Node217', 'Node218', 'Node218', 'Node219', 'Node220', 'Node221', 'Node214', 'Node222', 'Node216', 'Node223', 'Node224', 'Node210', 'Node224', 'Node225', 'Node226', 'Node227', 'Node227', 'Node215', 'Node228', 'Node229', 'Node230', 'Node231', 'Node219', 'Node232', 'Node217', 'Node233', 'Node234', 'Node226', 'Node235', 'Node236', 'Node223', 'Node230', 'Node237', 'Node238', 'Node239', 'Node240', 'Node241', 'Node242', 'Node232', 'Node213', 'Node242', 'Node239', 'Node221', 'Node231', 'Node243', 'Node244', 'Node243', 'Node245', 'Node245', 'Node246', 'Node233', 'Node241', 'Node247', 'Node248', 'Node249', 'Node206', 'Node250', 'Node251', 'Node252', 'Node240', 'Node225', 'Node253', 'Node254', 'Node255', 'Node252', 'Node256', 'Node252', 'Node257', 'Node208', 'Node258', 'Node211', 'Node212', 'Node259', 'Node236', 'Node238', 'Node260'], 'relationshiptype': ['M', 'M', 'M', 'E', 'M', 'E', 'M', 'R', 'A', 'A', 'E', 'Star', 'R', 'R', 'Star', 'O', 'O', 'E', 'R', 'Star', 'M', 'A', 'O', 'R', 'E', 'R', 'Star', 'Star', 'Star', 'Star', 'Star', 'A', 'A', 'O', 'E', 'E', 'E', 'Star', 'O', 'O', 'R', 'R', 'R', 'Star', 'R', 'R', 'A', 'Star', 'Star', 'O', 'Star', 'A', 'R', 'Star', 'Star', 'M', 'R', 'E', 'Star', 'Star', 'E', 'A', 'Star', 'R', 'M', 'R', 'Star', 'R', 'O', 'A', 'M', 'E', 'O', 'Star', 'E', 'Star', 'Star', 'A', 'Star', 'R', 'A', 'Star', 'R', 'R', 'O', 'M', 'A', 'Star', 'R', 'E', 'R', 'O', 'R', 'E', 'E', 'R', 'R', 'E', 'O', 'A', 'A', 'A', 'M', 'E', 'Star', 'A', 'M', 'O', 'E', 'E', 'E', 'Star', 'Star', 'E', 'M', 'O', 'Star', 'A', 'E', 'E', 'A', 'O', 'A', 'O', 'M', 'E', 'A', 'Star', 'E', 'R', 'Star', 'E', 'E', 'Star', 'R', 'R', 'R', 'O', 'R', 'E', 'A', 'Star', 'R', 'R', 'O', 'R', 'E', 'R', 'E', 'R', 'R', 'E', 'R', 'A', 'R', 'R', 'Star', 'Star', 'R', 'M', 'R', 'O', 'R', 'A', 'M', 'E', 'E', 'Star', 'R', 'Star', 'O', 'M', 'E', 'M', 'E', 'A', 'M', 'O', 'Star', 'M', 'E', 'O', 'R', 'E', 'E', 'R', 'Star', 'Star', 'O', 'Star', 'Star', 'E', 'O', 'Star', 'O', 'Star', 'O', 'O', 'R', 'E', 'R', 'M', 'M', 'R', 'R', 'E', 'E', 'R', 'O', 'R', 'O', 'E', 'Star', 'E', 'E', 'R', 'A', 'Star', 'A', 'M', 'E', 'E', 'Star', 'R', 'R', 'O', 'E', 'E', 'E', 'E', 'M', 'R', 'A', 'O', 'Star', 'A', 'O', 'E', 'R', 'E', 'Star', 'R', 'Star', 'E', 'E', 'O', 'E', 'E', 'O', 'M', 'E', 'E', 'A', 'A', 'A', 'E', 'A', 'E', 'R', 'A', 'A', 'O', 'A', 'O', 'A', 'A', 'Star', 'O', 'A', 'O', 'E', 'M', 'R', 'E', 'E', 'M', 'O', 'E', 'O', 'Star', 'E', 'R', 'M', 'Star', 'R', 'R', 'O', 'M', 'E', 'E', 'E', 'A', 'E', 'A', 'A', 'A', 'E', 'E', 'E', 'Star', 'O', 'A', 'O', 'E', 'R', 'M', 'A', 'O', 'E', 'M', 'A', 'A', 'E', 'R', 'R', 'E', 'Star', 'R', 'Star', 'R', 'O', 'E', 'R', 'O', 'M', 'R', 'E', 'R', 'R', 'R', 'R', 'A', 'E', 'R', 'Star', 'E', 'O', 'O', 'Star', 'E', 'R', 'R', 'R', 'Star', 'M', 'E', 'R', 'Star', 'A', 'E', 'A', 'R', 'O', 'R', 'O', 'A', 'O', 'E', 'E', 'A', 'O', 'E', 'A', 'O', 'O', 'R', 'E', 'M', 'E', 'M', 'Star', 'E', 'R', 'A', 'E', 'O', 'Star', 'O', 'E', 'M', 'R', 'Star', 'R', 'R', 'Star', 'R', 'M', 'R', 'A', 'E', 'Star', 'A', 'A', 'R', 'A', 'R', 'R', 'A', 'A', 'A', 'E', 'M', 'Star', 'R', 'E', 'Star', 'R', 'O', 'Star', 'M', 'Star', 'A', 'R', 'Star', 'O', 'O', 'O', 'R', 'M', 'Star', 'E', 'E', 'O', 'E', 'A', 'Star', 'R', 'Star', 'A', 'Star', 'R', 'A', 'R', 'A', 'Star', 'E', 'E', 'O', 'A', 'O', 'E', 'E', 'A', 'A', 'A', 'O', 'O', 'A', 'E', 'M', 'Star', 'R', 'Star', 'A', 'E', 'R', 'A', 'A', 'A', 'M', 'A', 'A', 'E', 'E', 'O', 'E', 'O', 'E', 'Star', 'O', 'R', 'O', 'E', 'A', 'R', 'R', 'A', 'Star', 'O', 'R', 'O', 'A', 'O', 'O', 'E', 'A', 'A', 'O', 'O', 'A', 'R', 'A', 'E', 'Star', 'E', 'O', 'Star', 'O', 'E', 'A']}\n",
      "{'Node2': {'parent': {'A': 'Node1'}}}\n"
     ]
    }
   ],
   "source": [
    "print(output_500['parent'][-2])\n",
    "print(output_500)\n",
    "print(nodes_end)"
   ]
  },
  {
   "cell_type": "code",
   "execution_count": 7,
   "metadata": {},
   "outputs": [],
   "source": [
    "data_500 = pd.DataFrame(output_500)\n",
    "# data_1k = pd.DataFrame(output_1k)\n",
    "# data_10k = pd.DataFrame(output_10k)\n",
    "# data_20k = pd.DataFrame(output_20k)\n",
    "data_500.to_csv(\"data_500.csv\", index=False)\n",
    "# data_1k.to_csv(\"data_1k.csv\", index=False)\n",
    "# data_10k.to_csv(\"data_10k.csv\", index=False)\n",
    "# data_20k.to_csv(\"data_20k.csv\", index=False)"
   ]
  },
  {
   "cell_type": "code",
   "execution_count": 65,
   "metadata": {},
   "outputs": [
    {
     "name": "stdout",
     "output_type": "stream",
     "text": [
      "[[1, 2, 3]] [[4, 5]] [[1, 2, 3], [4, 5]]\n",
      "[[1, 2, 3, 6]] [[4, 5]] [[1, 2, 3, 6], [4, 5]]\n",
      "[[1, 2, 3, 6, 8]] [[4, 5]] [[1, 2, 3, 6, 8], [4, 5]] [[1, 2, 3, 6, 8], [7]] [[1, 2, 3, 6, 8], [7], []]\n"
     ]
    }
   ],
   "source": [
    "# # illustrate function for list attribute in this file.\n",
    "# A = [[1,2,3]]\n",
    "# B = [[4,5]]\n",
    "# C = A + B\n",
    "# # C.append(A[0])\n",
    "# # C.append(B[0])\n",
    "# print(A,B,C)\n",
    "# # A[0] = 2\n",
    "# A[0].append(6)\n",
    "# # B.append(A)\n",
    "# print(A,B,C)\n",
    "# D = [[]]\n",
    "# E = [[]]\n",
    "# D = A + D\n",
    "# E = D + E\n",
    "# D[-1].append(7)\n",
    "# A[0].append(8)\n",
    "# print(A,B,C,D,E)"
   ]
  },
  {
   "cell_type": "markdown",
   "metadata": {},
   "source": [
    "## Load data"
   ]
  },
  {
   "cell_type": "code",
   "execution_count": 8,
   "metadata": {},
   "outputs": [
    {
     "name": "stdout",
     "output_type": "stream",
     "text": [
      "\n",
      "\n",
      "The execution time to load the CSV file to Neo4j is : 2.2527241706848145 seconds\n",
      "\n"
     ]
    }
   ],
   "source": [
    "#Establishing a connection to the Neo4j database\n",
    "driver = GraphDatabase.driver(\"bolt://localhost:7687\", auth=(\"neo4j\", \"12345678\"))\n",
    "\n",
    "#Using the connection to run a session\n",
    "with driver.session(database='assign3data500') as session:\n",
    "\n",
    "    #---------------------------------------------------------------------------------\n",
    "\n",
    "    #Query to load a CSV file (attached on BB). \n",
    "    #You can break the long Cypher query into multiple lines in Python using triple-quoted stringse:\n",
    "    loadQuery = \"\"\"\n",
    "    LOAD CSV WITH HEADERS FROM 'file:///data_500.csv' AS line\n",
    "    MERGE (n:Node {name: line.child})\n",
    "    MERGE (m:Node {name: line.parent})\n",
    "    MERGE (n)<-[r:isParentOf {rType: line.relationshiptype}]-(m)\n",
    "    \"\"\"\n",
    "    #Record the start time before executing the query to load data\n",
    "    loadStartTime = time.time()\n",
    "\n",
    "    #Execute the query to load data\n",
    "    LoadResult = session.run(loadQuery)\n",
    "\n",
    "    #Record the end time after executing the query to load data\n",
    "    LoadEndTime = time.time()\n",
    "\n",
    "    #Calculate and print the time taken to execute the query for loading data\n",
    "    print(\"\\n\\nThe execution time to load the CSV file to Neo4j is :\", LoadEndTime - loadStartTime, \"seconds\\n\")"
   ]
  }
 ],
 "metadata": {
  "kernelspec": {
   "display_name": "base",
   "language": "python",
   "name": "python3"
  },
  "language_info": {
   "codemirror_mode": {
    "name": "ipython",
    "version": 3
   },
   "file_extension": ".py",
   "mimetype": "text/x-python",
   "name": "python",
   "nbconvert_exporter": "python",
   "pygments_lexer": "ipython3",
   "version": "3.9.18"
  }
 },
 "nbformat": 4,
 "nbformat_minor": 2
}

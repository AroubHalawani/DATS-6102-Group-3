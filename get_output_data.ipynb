{
 "cells": [
  {
   "cell_type": "markdown",
   "metadata": {},
   "source": [
    "## Import part"
   ]
  },
  {
   "cell_type": "code",
   "execution_count": 1,
   "metadata": {},
   "outputs": [],
   "source": [
    "import numpy as np\n",
    "import pandas as pd"
   ]
  },
  {
   "cell_type": "code",
   "execution_count": 2,
   "metadata": {},
   "outputs": [],
   "source": [
    "df = pd.read_csv('gsearch_jobs_fixed.csv')"
   ]
  },
  {
   "cell_type": "code",
   "execution_count": 142,
   "metadata": {},
   "outputs": [],
   "source": [
    "## load big dataset\n",
    "# chunk_size = 10000  \n",
    "# chunks = []  \n",
    "# for chunk in pd.read_csv('gsearch_jobs_fixed1m.csv', chunksize=chunk_size):\n",
    "#     chunks.append(chunk)\n",
    "# df = pd.concat(chunks, ignore_index=True)\n",
    "# # df = pd.concat(chunks)"
   ]
  },
  {
   "cell_type": "markdown",
   "metadata": {},
   "source": [
    "## observation part"
   ]
  },
  {
   "cell_type": "code",
   "execution_count": 129,
   "metadata": {},
   "outputs": [
    {
     "name": "stdout",
     "output_type": "stream",
     "text": [
      "34153\n"
     ]
    },
    {
     "data": {
      "text/plain": [
       "'Job Summary: The Data Analyst oversees data production for the Wildland Fire program and ensures the quality of the data produced. This position is on site and works in the Chloeta Catastrophe Command Center (Cat Center) alongside a variety of technical disciplines. Supervisory Responsibilities: No Job Classification: Permanent, full-time employee with benefits Compensation: Non-exempt $19 - 39 per hour Chloeta reserves the right to offer any candidate above or below the listed compensation amount based on experience or business needs.\\n\\nDuties/Responsibilities: Oversees and manages assigned project and/or department data, ensuring it meets predetermined contractual or policy requirements. Serves as the point person for data-related tasks on assigned projects. Coordinates the production of data by the assigned department and by other data developers.\\n\\nReviews customer requests for quotes and statements of work and compares these with contractual data requirements. Reviews prepared data... to ensure it is adequate, accurate, and complies with contractual data requirements before it is transferred to the customer. Manages the development of program data and ensures that established schedules and budgets are met.\\n\\nFields data-related questions and assists with customer-required process reviews. Conduct thorough analysis of GIS data to detect errors and inconsistencies, and proactively devise innovative solutions to improve data accuracy during the data collection process. Analyzing spatial data to identify patterns, trends, and relationships for various projects or initiatives.\\n\\nConducting data validation and quality checks to ensure accuracy and reliability. Assisting in the development and implementation of data collection methodologies. This job description is not designed to cover or contain a comprehensive listing of activities, duties or responsibilities that are required of the employee.\\n\\nDuties, responsibilities and activities may change or new ones may be assigned at any time with or without notice. Required Skills/Abilities: Excellent organizational and time management skills. Ability to function in a fast paced, collaborative environment common to a full time Emergency Operations Center (EOC) or Emergency Services Dispatch Center.\\n\\nExtensive knowledge of data preparation procedures and requirements. Excellent written and verbal communications skills. Ability to manage multiple projects and meet deadlines.\\n\\nKnowledge of geographically referenced data required (projections, datum, map scales, etc.) Strong problem-solving skills Proficient in Microsoft Office Suite and similar software. Candidates should possess some knowledge of various programming languages, such as Python and R, along with fundamental skills in ESRI ArcGIS Pro software. Education and Experience: Required: Bachelors Degree or equivalent experience in the field.\\n\\nRequired: Three (3) years of experience in data analysis License verification, education, and certifications must be provided at the time of application and can be emailed to certification@chloeta.com. Physical Requirements: Prolonged periods sitting at a desk and working on a computer. Must be able to lift up to 15 pounds at times.\\n\\nThis job operates in a fast-paced, collaborative environment. This role routinely uses standard office equipment such as computers, phones, etc. Benefits: Eligible employees at Chloeta receive the following industry leading benefits: Health, Dental, and Vision Insurance Health Savings Account (HSA) Access to Teladoc Paid Annual Leave/PTO Paid Sick Leave 14 Paid Holidays 401(k) Safe Harbor Life Insurance Tuition Reimbursement Accident, Critical Illness or Hospital Focused Insurance Employee Assistance Program (EAP) Short and Long Term Disability Pre-employment Requirements: This position may be contingent upon passing a security clearance, criminal background check, drug screen, Motor Vehicle Record (MVR) review, education verification, employment verification, and/or credit check after acceptance of an offer and prior to beginning work, due to the nature of the services Chloeta provides and the responsibilities of this position.\\n\\nDrug and Alcohol Testing: To enforce Chloeta\\'s Drug and Alcohol Testing Policy, an employee or candidate could be subject to undergoing a drug screen and/or alcohol testing at the beginning of employment, as well as after commencement of employment where there is reasonable suspicion of intoxication, or following an automobile or other accident, or as part of a company or facility-wide random drug screen process. Please be advised that this position is considered \"safety-sensitive\" for purposes of Chloeta\\'s drug and alcohol testing policy, pursuant to Oklahoma Statutes title 63, section 427.8(K). Emergency Response: Every Chloeta employee has regular and recurring emergency management responsibilities, though not every position requires routine deployment to disaster sites.\\n\\nAll positions are subject to recall around the clock for emergency management operations, which may require irregular work hours, work at locations other than the official Duty Station, and may include duties other than those specified in the employee\\'s official Position Description (PD). Travel requirements in support of emergency operations may be extensive in nature (weeks to months), with little advance notice, and may require employees to relocate to emergency sites with physically austere and operationally challenging conditions. EEO Statement: Chloeta provides equal employment opportunities to all employees and applicants for employment and prohibits discrimination and harassment of any type without regard to race, color, religion, age, sex, national origin, disability status, genetics, protected veteran status, sexual orientation, gender identity or expression, or any other characteristic protected by federal, state or local laws.\\n\\nThis policy applies to all terms and conditions of employment, including recruiting, hiring, placement, promotion, termination, layoff, recall, transfer, leaves of absence, compensation, and training. About Chloeta: Chloeta is a Native American owned enterprise providing a diverse range of engineering, scientific and technical solutions to support military, energy, homeland security, emergency preparedness Healthcare, and critical infrastructure requirements'"
      ]
     },
     "execution_count": 129,
     "metadata": {},
     "output_type": "execute_result"
    }
   ],
   "source": [
    "print(len(df))\n",
    "df.iloc[0,5]"
   ]
  },
  {
   "cell_type": "code",
   "execution_count": 8,
   "metadata": {},
   "outputs": [
    {
     "data": {
      "text/html": [
       "<div>\n",
       "<style scoped>\n",
       "    .dataframe tbody tr th:only-of-type {\n",
       "        vertical-align: middle;\n",
       "    }\n",
       "\n",
       "    .dataframe tbody tr th {\n",
       "        vertical-align: top;\n",
       "    }\n",
       "\n",
       "    .dataframe thead th {\n",
       "        text-align: right;\n",
       "    }\n",
       "</style>\n",
       "<table border=\"1\" class=\"dataframe\">\n",
       "  <thead>\n",
       "    <tr style=\"text-align: right;\">\n",
       "      <th></th>\n",
       "      <th>work_from_home</th>\n",
       "      <th>salary</th>\n",
       "      <th>search_term</th>\n",
       "      <th>date_time</th>\n",
       "      <th>commute_time</th>\n",
       "      <th>salary_pay</th>\n",
       "      <th>salary_rate</th>\n",
       "      <th>salary_avg</th>\n",
       "      <th>salary_min</th>\n",
       "      <th>salary_max</th>\n",
       "    </tr>\n",
       "  </thead>\n",
       "  <tbody>\n",
       "    <tr>\n",
       "      <th>0</th>\n",
       "      <td>NaN</td>\n",
       "      <td>NaN</td>\n",
       "      <td>data analyst</td>\n",
       "      <td>8/3/2023 3:00</td>\n",
       "      <td>NaN</td>\n",
       "      <td>NaN</td>\n",
       "      <td>NaN</td>\n",
       "      <td>NaN</td>\n",
       "      <td>NaN</td>\n",
       "      <td>NaN</td>\n",
       "    </tr>\n",
       "    <tr>\n",
       "      <th>1</th>\n",
       "      <td>True</td>\n",
       "      <td>NaN</td>\n",
       "      <td>data analyst</td>\n",
       "      <td>8/3/2023 3:00</td>\n",
       "      <td>NaN</td>\n",
       "      <td>NaN</td>\n",
       "      <td>NaN</td>\n",
       "      <td>NaN</td>\n",
       "      <td>NaN</td>\n",
       "      <td>NaN</td>\n",
       "    </tr>\n",
       "    <tr>\n",
       "      <th>2</th>\n",
       "      <td>NaN</td>\n",
       "      <td>NaN</td>\n",
       "      <td>data analyst</td>\n",
       "      <td>8/3/2023 3:00</td>\n",
       "      <td>NaN</td>\n",
       "      <td>NaN</td>\n",
       "      <td>NaN</td>\n",
       "      <td>NaN</td>\n",
       "      <td>NaN</td>\n",
       "      <td>NaN</td>\n",
       "    </tr>\n",
       "    <tr>\n",
       "      <th>3</th>\n",
       "      <td>NaN</td>\n",
       "      <td>NaN</td>\n",
       "      <td>data analyst</td>\n",
       "      <td>8/3/2023 3:00</td>\n",
       "      <td>NaN</td>\n",
       "      <td>NaN</td>\n",
       "      <td>NaN</td>\n",
       "      <td>NaN</td>\n",
       "      <td>NaN</td>\n",
       "      <td>NaN</td>\n",
       "    </tr>\n",
       "    <tr>\n",
       "      <th>4</th>\n",
       "      <td>True</td>\n",
       "      <td>NaN</td>\n",
       "      <td>data analyst</td>\n",
       "      <td>8/3/2023 3:00</td>\n",
       "      <td>NaN</td>\n",
       "      <td>NaN</td>\n",
       "      <td>NaN</td>\n",
       "      <td>NaN</td>\n",
       "      <td>NaN</td>\n",
       "      <td>NaN</td>\n",
       "    </tr>\n",
       "  </tbody>\n",
       "</table>\n",
       "</div>"
      ],
      "text/plain": [
       "  work_from_home salary   search_term      date_time  commute_time salary_pay  \\\n",
       "0            NaN    NaN  data analyst  8/3/2023 3:00           NaN        NaN   \n",
       "1           True    NaN  data analyst  8/3/2023 3:00           NaN        NaN   \n",
       "2            NaN    NaN  data analyst  8/3/2023 3:00           NaN        NaN   \n",
       "3            NaN    NaN  data analyst  8/3/2023 3:00           NaN        NaN   \n",
       "4           True    NaN  data analyst  8/3/2023 3:00           NaN        NaN   \n",
       "\n",
       "  salary_rate  salary_avg  salary_min  salary_max  \n",
       "0         NaN         NaN         NaN         NaN  \n",
       "1         NaN         NaN         NaN         NaN  \n",
       "2         NaN         NaN         NaN         NaN  \n",
       "3         NaN         NaN         NaN         NaN  \n",
       "4         NaN         NaN         NaN         NaN  "
      ]
     },
     "execution_count": 8,
     "metadata": {},
     "output_type": "execute_result"
    }
   ],
   "source": [
    "df.iloc[:,11:21].head()"
   ]
  },
  {
   "cell_type": "code",
   "execution_count": 9,
   "metadata": {},
   "outputs": [
    {
     "data": {
      "text/html": [
       "<div>\n",
       "<style scoped>\n",
       "    .dataframe tbody tr th:only-of-type {\n",
       "        vertical-align: middle;\n",
       "    }\n",
       "\n",
       "    .dataframe tbody tr th {\n",
       "        vertical-align: top;\n",
       "    }\n",
       "\n",
       "    .dataframe thead th {\n",
       "        text-align: right;\n",
       "    }\n",
       "</style>\n",
       "<table border=\"1\" class=\"dataframe\">\n",
       "  <thead>\n",
       "    <tr style=\"text-align: right;\">\n",
       "      <th></th>\n",
       "      <th>salary_hourly</th>\n",
       "      <th>salary_yearly</th>\n",
       "      <th>salary_standardized</th>\n",
       "      <th>description_tokens</th>\n",
       "      <th>search_location</th>\n",
       "    </tr>\n",
       "  </thead>\n",
       "  <tbody>\n",
       "    <tr>\n",
       "      <th>0</th>\n",
       "      <td>NaN</td>\n",
       "      <td>NaN</td>\n",
       "      <td>NaN</td>\n",
       "      <td>['r', 'python']</td>\n",
       "      <td>United States</td>\n",
       "    </tr>\n",
       "    <tr>\n",
       "      <th>1</th>\n",
       "      <td>NaN</td>\n",
       "      <td>NaN</td>\n",
       "      <td>NaN</td>\n",
       "      <td>['r', 'matlab', 'python', 'mongodb', 'pandas',...</td>\n",
       "      <td>United States</td>\n",
       "    </tr>\n",
       "    <tr>\n",
       "      <th>2</th>\n",
       "      <td>NaN</td>\n",
       "      <td>NaN</td>\n",
       "      <td>NaN</td>\n",
       "      <td>[]</td>\n",
       "      <td>United States</td>\n",
       "    </tr>\n",
       "    <tr>\n",
       "      <th>3</th>\n",
       "      <td>NaN</td>\n",
       "      <td>NaN</td>\n",
       "      <td>NaN</td>\n",
       "      <td>['word', 'excel', 'r', 'tableau', 'perl', 'pyt...</td>\n",
       "      <td>United States</td>\n",
       "    </tr>\n",
       "    <tr>\n",
       "      <th>4</th>\n",
       "      <td>NaN</td>\n",
       "      <td>NaN</td>\n",
       "      <td>NaN</td>\n",
       "      <td>[]</td>\n",
       "      <td>United States</td>\n",
       "    </tr>\n",
       "  </tbody>\n",
       "</table>\n",
       "</div>"
      ],
      "text/plain": [
       "   salary_hourly  salary_yearly  salary_standardized  \\\n",
       "0            NaN            NaN                  NaN   \n",
       "1            NaN            NaN                  NaN   \n",
       "2            NaN            NaN                  NaN   \n",
       "3            NaN            NaN                  NaN   \n",
       "4            NaN            NaN                  NaN   \n",
       "\n",
       "                                  description_tokens search_location  \n",
       "0                                    ['r', 'python']   United States  \n",
       "1  ['r', 'matlab', 'python', 'mongodb', 'pandas',...   United States  \n",
       "2                                                 []   United States  \n",
       "3  ['word', 'excel', 'r', 'tableau', 'perl', 'pyt...   United States  \n",
       "4                                                 []   United States  "
      ]
     },
     "execution_count": 9,
     "metadata": {},
     "output_type": "execute_result"
    }
   ],
   "source": [
    "df.iloc[:,21:].head()"
   ]
  },
  {
   "cell_type": "markdown",
   "metadata": {},
   "source": [
    "## data manipulation and calculation part"
   ]
  },
  {
   "cell_type": "markdown",
   "metadata": {},
   "source": [
    "#### SQL"
   ]
  },
  {
   "cell_type": "code",
   "execution_count": 14,
   "metadata": {},
   "outputs": [],
   "source": [
    "import mysql.connector\n",
    "\n",
    "dataBase1 = mysql.connector.connect(\n",
    "host =\"localhost\",\n",
    "user =\"root\",\n",
    "passwd =\"\",\n",
    "database = \"jobs3\"\n",
    ")\n",
    "\n",
    "dataBase2 = mysql.connector.connect(\n",
    "host =\"localhost\",\n",
    "user =\"root\",\n",
    "passwd =\"\",\n",
    "database = \"jobs4\"\n",
    ")\n",
    "\n",
    "# preparing a cursor object\n",
    "cursorObject1 = dataBase1.cursor(buffered=True)\n",
    "cursorObject2 = dataBase2.cursor(buffered=True)\n"
   ]
  },
  {
   "cell_type": "code",
   "execution_count": 15,
   "metadata": {},
   "outputs": [],
   "source": [
    "results_temp = {}"
   ]
  },
  {
   "cell_type": "code",
   "execution_count": 16,
   "metadata": {},
   "outputs": [],
   "source": [
    "cursorObject1.execute('SET profiling = 1;')\n",
    "cursorObject2.execute('SET profiling = 1;')"
   ]
  },
  {
   "cell_type": "code",
   "execution_count": 17,
   "metadata": {},
   "outputs": [
    {
     "name": "stdout",
     "output_type": "stream",
     "text": [
      "{'1_1': [25.7277782, 24.0558356, 23.7178239, 22.9257038, 24.3563975, 23.0665105, 22.8812144, 22.9287325, 22.8510791, 22.7922177, 23.1909296, 22.5802242, 23.0822712, 22.9682029, 22.9956061, 22.7375825, 22.5271881, 22.9334348, 23.0457023, 23.0493308, 22.7366223, 23.2653133, 22.7950765, 23.0813332, 22.6372519, 22.982334, 22.8410619, 22.6938401, 22.7718191, 22.5084276], '1_2': [20.5238828, 20.6053091, 20.5966548, 20.3319542, 20.4618106, 20.3850469, 20.4918985, 21.1574866, 20.4192858, 20.850557, 20.2937606, 21.165571, 20.7979844, 20.3959651, 20.8827877, 22.5032687, 20.518911, 20.3989036, 20.8815453, 20.3938258, 20.539382, 20.9418098, 20.3211966, 20.7596711, 20.9164477, 20.4505672, 20.8443832, 20.6264177, 20.4615271, 20.5383176], '1_3': [29.4404778, 29.4728307, 28.9116365, 28.9584352, 29.1369501, 30.6980868, 29.5363967, 29.2081565, 29.1317322, 28.9332264, 28.8925158, 28.907121, 28.9646874, 29.2482716, 29.1163512, 28.7018328, 28.9270063, 29.0586698, 29.1758721, 28.982872, 29.0295389, 29.007276, 29.158118, 28.6469835, 29.3347673, 28.8079964, 29.1493097, 28.901536, 29.0927569, 29.7612314], '1_4': [38.8939141, 38.954327, 38.5658754, 38.3357477, 39.0857077, 38.3381538, 38.6297183, 38.9245681, 40.1843875, 39.3060228, 38.8299411, 38.5943288, 39.2192535, 38.6014734, 63.9280081, 56.4545224, 39.004337, 38.9684144, 39.1276935, 38.8121615, 44.4673008, 44.3369102, 39.3100906, 39.6484002, 39.0703508, 38.8650611, 41.6034916, 39.6189238, 39.2389186, 38.8124604], '2_1': [22.7916792, 22.6832479, 23.0699024, 22.7233577, 22.9147686, 22.5164327, 22.9842235, 22.8575867, 22.870703, 22.6389125, 22.6900286, 23.0354035, 22.4907426, 22.9377185, 22.9505191, 23.1642262, 23.1657297, 22.6512851, 22.9420824, 22.8097619, 23.1835999, 22.5333915, 22.4457261, 22.6340475, 22.8103628, 22.8542444, 22.8345978, 22.7913591, 22.9602724, 22.7962095], '2_2': [22.8792451, 23.0561697, 22.6985389, 22.9874172, 22.8249684, 22.5583375, 22.9517173, 22.7942193, 22.6429292, 22.5739569, 22.8367948, 22.7716253, 23.2068191, 22.5945878, 23.2275171, 22.7241358, 22.5897526, 22.5371477, 22.5597275, 22.6903896, 22.7295883, 22.7336038, 22.347305, 22.6476619, 22.4190555, 22.0938162, 22.4586146, 22.6952674, 25.4747147, 22.5768199], '2_3': [31.5656901, 30.6007593, 31.0581938, 31.0044467, 30.7620222, 30.8798044, 30.619579, 31.8455354, 31.0263053, 31.9381655, 31.2123794, 30.7520909, 30.4913324, 31.1059539, 30.4758539, 30.8596146, 30.9791504, 30.7390605, 30.4280326, 30.9209645, 30.7832124, 31.4080088, 30.5176625, 31.3682902, 30.7883732, 30.887701, 30.9241044, 31.0125892, 30.6569178, 30.8892476], '2_4': [31.5869145, 31.4588296, 31.4190594, 31.4649855, 31.2965032, 31.1637763, 31.65219, 31.4639758, 31.2430944, 32.1638013, 31.4645074, 31.4150603, 31.3938854, 31.7153505, 30.89254, 31.4915461, 30.9115031, 31.4495708, 31.6755313, 31.3443684, 30.8277427, 30.1732668, 29.8865795, 30.2615658, 29.8143407, 29.8174907, 30.1273239, 29.8989737, 30.714433, 29.9711357], '3_1': [21.8996147, 21.4791321, 21.6678436, 21.438138, 21.7748106, 21.540411, 21.8348105, 21.5648054, 21.5029551, 21.5852617, 22.8116147, 21.8076354, 22.2198024, 21.5665427, 21.6543792, 21.9361137, 21.6514317, 22.1801556, 21.4530914, 21.5855116, 21.7170612, 21.9090192, 21.9111533, 21.6829685, 21.5370137, 21.954831, 21.4660854, 21.7913651, 21.7150578, 21.7347915], '3_2': [19.4474115, 20.3807943, 19.4998534, 19.5582665, 19.773552, 19.6698061, 19.9589009, 20.3032862, 19.6935048, 19.7008009, 19.6021775, 19.6332758, 19.7180616, 19.593119, 19.6970162, 19.6500347, 19.582847, 19.5367332, 19.5680238, 19.6212362, 19.4875247, 19.6027247, 19.606417, 20.0258151, 20.9944723, 19.9009016, 19.4456741, 19.5347312, 19.927978, 19.4225851], '3_3': [28.1963519, 27.8698325, 27.8131731, 27.8959248, 27.6257247, 28.0077037, 27.6688639, 28.18011, 28.0485455, 27.9087705, 27.8272086, 28.0045599, 27.8014275, 28.3251495, 27.7462821, 27.7391743, 27.6272227, 28.2101459, 27.837787, 28.0938972, 27.9286441, 27.9242546, 27.8730362, 27.9497689, 28.0701361, 27.6294718, 27.8251192, 29.7294968, 28.5262129, 27.7626638], '3_4': [37.3591033, 37.3207014, 36.8373613, 37.151476, 37.0902477, 37.353307, 37.5446291, 36.8347909, 37.3493297, 37.364428, 36.8389626, 37.1173065, 37.0587381, 37.7533765, 38.429609, 37.5441222, 37.5986663, 37.6604845, 37.0132407, 37.2650549, 36.9447049, 37.4187699, 37.7854968, 37.752477, 37.5903112, 37.2968301, 37.0905774, 37.2764334, 37.1292867, 37.1916771], '4_1': [22.0600687, 21.7533855, 21.8949235, 21.7076168, 21.6690043, 21.6629995, 21.7144272, 21.5561297, 22.0665202, 21.4616155, 21.5652308, 22.0148968, 21.7404189, 22.0900841, 21.9538122, 21.7746583, 21.7268604, 21.9258226, 21.6691301, 21.9344096, 21.6893857, 21.6844506, 22.1209657, 21.542937, 21.6805237, 21.713477, 21.6673639, 21.7729679, 22.8355259, 21.7968214], '4_2': [22.3116411, 21.700035, 21.6007049, 21.9019984, 21.8396779, 22.3283813, 21.8194691, 21.7949954, 21.7601727, 21.6443993, 21.8143057, 22.1778595, 21.797071, 21.8799271, 21.7877508, 21.6178716, 21.8576303, 21.937513, 21.6766557, 21.7398795, 21.8004978, 21.5951391, 21.753072, 21.7186967, 21.7987175, 21.7964126, 21.8013982, 21.7098158, 21.7812728, 21.7879674], '4_3': [29.4568158, 29.1947631, 28.9499763, 29.2054496, 29.2028319, 29.6948534, 29.4867539, 29.540567, 29.3163429, 29.2188015, 29.0743825, 29.1966494, 29.2358105, 29.0616451, 29.1297387, 29.3289025, 29.6626052, 29.0921452, 29.5295907, 29.0396798, 29.5113586, 29.7411518, 29.9008829, 29.1961119, 29.4643915, 29.2630289, 29.603158, 29.461972, 29.08417, 29.3082898], '4_4': [29.6933197, 29.7597171, 29.4522084, 30.0209579, 29.4793536, 29.5031405, 29.4103569, 31.7055387, 29.3541941, 29.5189245, 29.4206768, 30.0987608, 29.7686059, 29.7056557, 29.3581627, 29.8986729, 29.40943, 29.7101304, 29.5689643, 29.8632787, 29.4190806, 29.920056, 29.3602902, 29.6170552, 29.2787745, 30.1068253, 29.6059121, 29.581742, 29.6227376, 29.4993699], '5_1': [34.1347316, 37.6832805, 34.1985978, 34.0938606, 34.2916578, 34.2050014, 34.0099991, 33.8806461, 33.8667094, 34.1141942, 33.8560893, 34.0471406, 34.1586725, 34.3344311, 34.0661576, 34.3954668, 33.8313291, 34.0237351, 33.7017071, 33.9633791, 34.4249072, 34.115437, 34.2248786, 33.7617161, 33.8442037, 33.7762447, 33.9603053, 34.1557826, 33.5930601, 34.3201557], '5_2': [21.6715597, 21.7570141, 22.8811475, 21.5538386, 22.1352859, 21.6830454, 21.7000109, 21.6156169, 21.9097243, 21.7954793, 21.8143269, 21.7222079, 23.5205412, 22.2064221, 22.1948277, 21.8450007, 21.8594042, 21.790188, 22.0271046, 21.9442002, 21.7649037, 22.0632673, 21.969749, 22.0141979, 21.7098611, 21.8726377, 21.8583268, 21.7393256, 21.6361404, 21.870899], '5_3': [19.9749487, 19.4478908, 19.5680103, 19.355694, 19.3156109, 19.6475246, 19.265996, 19.459526, 19.707563, 19.2992365, 19.3570253, 19.5747575, 19.5143219, 19.4196767, 19.4702726, 19.6451425, 19.3185448, 19.2639086, 19.369678, 19.474001, 19.4845077, 19.4406453, 19.2927157, 19.3816113, 19.3404872, 19.9796231, 19.7117786, 19.6424704, 19.2818116, 19.4074877], '5_4': [26.7617795, 26.7706582, 26.4976542, 26.8078978, 27.166279, 26.7212254, 26.8705299, 26.7449118, 27.0401775, 26.6808015, 26.9974102, 26.7841121, 26.7030475, 26.9799381, 26.5175902, 27.0551192, 26.3620814, 26.6738662, 27.0932331, 26.5713721, 26.5614484, 26.9033465, 26.4769391, 28.1428962, 27.0096828, 26.7010011, 26.9680551, 26.6324694, 26.5580937, 26.8173898], '5_5': [30.7141123, 30.3412818, 30.6006131, 30.5589098, 30.5318749, 30.4774577, 30.5347548, 30.8502226, 30.4740065, 30.6737649, 30.531138, 30.8897348, 30.4238457, 30.5736435, 30.4091865, 30.7315253, 30.6415592, 30.8413039, 31.0448745, 32.35432, 31.0130072, 30.5988203, 30.4296053, 30.6551053, 30.4894145, 30.5448673, 32.7297021, 32.184352, 38.0092077, 39.9218799], '5_6': [29.2944092, 27.1852652, 26.5543816, 26.7502424, 26.9852933, 26.9913568, 27.0055037, 26.7665092, 27.2995328, 26.9112638, 27.0982328, 26.560331, 26.899604, 26.4602352, 26.5542792, 26.8752525, 26.5773387, 26.6504446, 26.6431987, 26.8328582, 26.7596704, 26.7339817, 26.5130961, 26.9422287, 28.0008771, 27.0477534, 26.477441, 26.7985682, 26.8290491, 26.8194768], '5_7': [24.3381924, 24.1733879, 24.0100286, 24.0311461, 24.6406211, 25.321481, 28.8782141, 26.3792007, 24.9672886, 24.963228, 24.5903765, 24.8390924, 24.7372392, 24.5778123, 25.2742319, 24.7283355, 26.0738728, 26.9102215, 25.7332679, 24.506838, 25.084942, 24.0469533, 24.2899838, 24.0187716, 23.7040161, 24.5003575, 24.3310138, 23.8563686, 23.9067072, 23.9379256], '5_8': [33.9935989, 34.0429954, 34.1110718, 34.1836974, 34.1762252, 34.2007896, 34.0024738, 34.2123736, 34.7158725, 34.6590641, 34.4039267, 33.9923054, 34.490749, 33.8223515, 34.7060672, 34.0458731, 33.9060053, 34.6169171, 34.0880973, 35.3325885, 33.9843665, 34.2945115, 34.3065813, 33.917201, 34.2208817, 36.2607227, 34.0788172, 34.4497112, 34.4052649, 34.150332], '5_9': [33.5290132, 33.3591639, 33.170874, 33.047506, 33.5649571, 32.8623851, 33.2868339, 33.2321493, 34.5253594, 33.4130913, 33.5540696, 33.3522424, 33.0855933, 33.3530652, 32.977218, 33.9203779, 34.0961908, 33.4102957, 33.6475626, 33.1434301, 33.4267503, 33.386111, 33.3020775, 33.0280247, 33.193322, 33.5380879, 33.126084, 33.5293231, 33.5526584, 33.3909206], '5_10': [30.3724631, 30.7442909, 30.494832, 30.5084526, 31.8458603, 30.5263005, 30.5285512, 30.5462874, 30.4626215, 30.4282498, 30.3478847, 30.1927865, 30.5394805, 30.2937321, 30.4307727, 30.1115936, 30.3870616, 30.26311, 30.1107514, 30.4951168, 31.9825197, 30.497736, 30.2021742, 30.6791871, 30.4297251, 30.361047, 31.1166814, 30.5876858, 30.1673369, 30.3619351], '5_11': [19.6109055, 19.7466159, 19.6569254, 19.4492778, 19.6796632, 19.8758621, 19.8217388, 19.7808166, 19.8047254, 20.7272417, 19.9211445, 19.9490676, 19.7465102, 19.7494184, 19.7680473, 19.8017673, 19.6771266, 19.857378, 19.6229547, 19.9747919, 19.709076, 19.6840384, 23.5679812, 19.594212, 19.4627973, 19.4666873, 19.5466742, 19.5019544, 19.3954057, 19.5978093], '5_12': [29.7947266, 29.7341335, 29.7943499, 30.2177835, 30.3558843, 29.9233543, 29.7123234, 30.1438134, 29.9448562, 29.9581657, 29.69577, 30.163768, 29.6483978, 29.9438897, 29.6964481, 30.5055337, 29.8435112, 29.9741586, 29.6283119, 29.9661057, 29.7128245, 30.0781097, 29.7225464, 29.9367303, 29.7889012, 29.5534296, 29.6381768, 29.8685112, 29.8234718, 30.0781809], '5_13': [20.068656, 19.645731, 19.8921396, 20.262136, 20.0760199, 19.899866, 19.9958736, 20.0456328, 19.9173813, 20.0663028, 20.0983427, 19.9196006, 20.0024538, 19.8662439, 20.0168383, 20.9591798, 20.0507227, 19.9393191, 20.1906588, 20.9061352, 19.7749535, 19.6967913, 19.7993291, 19.7931553, 19.6999068, 19.7445428, 19.7111828, 19.7934934, 19.878855, 19.6226562], '6_1': [34.9785523, 35.1278001, 34.9555898, 35.207843, 35.0700655, 34.3636651, 33.8806183, 34.0760064, 33.9956291, 33.9711449, 33.9714313, 33.3659289, 33.9044755, 33.9923452, 33.8269551, 34.242175, 33.9638662, 33.7292365, 34.0131708, 34.9034425, 35.2325939, 35.0357241, 34.6390594, 34.9746191, 35.1875891, 35.2568917, 34.9269423, 35.0547667, 35.1097954, 35.159508], '6_2': [36.377156, 36.115325, 35.8838947, 35.9606247, 36.0098552, 31.8068298, 34.9340766, 33.8457337, 34.1594138, 34.051646, 33.7450393, 33.8152521, 34.1694443, 34.0788434, 33.9730962, 35.126187, 36.0121317, 35.8109238, 35.4172544, 36.0965027, 35.9356099, 35.7749053, 35.898568, 36.132167, 35.5975398, 35.8934524, 35.8979818, 35.0048977, 34.0133955, 34.2229871], '6_3': [34.8682502, 36.0727851, 36.4575056, 36.6716213, 36.7509427, 36.4672454, 36.3752517, 35.6182019, 36.2703907, 36.4474866, 35.9209304, 36.6472097, 36.1831523, 35.7775365, 36.0181827, 36.7203876, 36.3669244, 36.1240536, 36.3481957, 40.1078425, 36.4128401, 36.5293614, 36.5023578, 36.2337519, 36.1628622, 36.4192226, 32.3089562, 36.6609498, 36.5018152, 36.2939534], '7_1': [30.5531542, 30.0417101, 30.09872, 29.9299458, 30.290107, 29.9247672, 30.1477135, 30.3990526, 30.0401634, 30.2334674, 30.0054025, 29.8528918, 30.0942811, 29.9180538, 30.0099547, 29.9597315, 30.4283636, 30.0111693, 30.3388155, 29.8142948, 29.8024154, 30.0657644, 29.9014883, 29.9617594, 29.8303862, 30.1006432, 30.0885938, 30.0490831, 30.0199606, 29.8286841], '7_2': [193.0739891, 194.0969044, 192.1520901, 192.0869862, 197.8716006, 199.4342967, 206.9807055, 207.6590164, 206.5056562, 210.7015695, 200.1921852, 200.3041951, 203.1074331, 200.1032446, 197.5984257, 196.2666828, 198.8105516, 197.5074008, 198.2885409, 197.3372989, 196.8046888, 196.8493717, 200.9054393, 197.6542005, 196.882371, 199.2792885, 197.5853503, 198.5253896, 199.1347084, 198.7405641]}\n"
     ]
    }
   ],
   "source": [
    "sql1_1 = \"SELECT * FROM job_posts WHERE title = 'Data Analyst';\"\n",
    "sql1_2 = \"SELECT * FROM job_posts WHERE description IN ('Data Analyst');\"\n",
    "sql1_3 = \"SELECT * FROM job_posts WHERE description LIKE '%Data Analyst%';\"\n",
    "sql1_4 = \"SELECT * FROM job_posts WHERE description REGEXP 'Data Analyst';\"\n",
    "\n",
    "sql2_1 = \"SELECT * FROM job_posts WHERE title = 'Data Analyst';\"\n",
    "sql2_2 = \"SELECT * FROM job_posts WHERE title IN ('Data Analyst');\"\n",
    "sql2_3 = \"SELECT * FROM job_posts WHERE title LIKE '%Data Analyst%';\"\n",
    "sql2_4 = \"SELECT * FROM job_posts WHERE title REGEXP 'Data Analyst';\"\n",
    "\n",
    "sql3_1 = \"SELECT * FROM job_posts WHERE title = 'Data Analyst';\"\n",
    "sql3_2 = \"SELECT * FROM job_posts WHERE description IN ('Data Analyst');\"\n",
    "sql3_3 = \"SELECT * FROM job_posts WHERE description LIKE '%Data Analyst%';\"\n",
    "sql3_4 = \"SELECT * FROM job_posts WHERE description REGEXP 'Data Analyst';\"\n",
    "\n",
    "sql4_1 = \"SELECT * FROM job_posts WHERE title = 'Data Analyst';\"\n",
    "sql4_2 = \"SELECT * FROM job_posts WHERE title IN ('Data Analyst');\"\n",
    "sql4_3 = \"SELECT * FROM job_posts WHERE title LIKE '%Data Analyst%';\"\n",
    "sql4_4 = \"SELECT * FROM job_posts WHERE title REGEXP 'Data Analyst';\"\n",
    "\n",
    "sql5_1 = \"SELECT * FROM job_posts WHERE description <> '%Data Analyst%';\"\n",
    "sql5_2 = \"SELECT * FROM job_posts WHERE title = 'Data Analyst' OR description = 'Data Analyst';\"\n",
    "sql5_3 = \"SELECT * FROM job_posts WHERE title = 'Data Analyst' AND description = 'Data Analyst';\"\n",
    "\n",
    "sql5_4 = \"SELECT * FROM job_posts WHERE description NOT LIKE '%Data Analyst%';\"\n",
    "sql5_5 = \"SELECT * FROM job_posts WHERE title LIKE '%Data Analyst%' OR description LIKE '%Data Analyst%';\"\n",
    "sql5_6 = \"SELECT * FROM job_posts WHERE title LIKE '%Data Analyst%' AND description LIKE '%Data Analyst%';\"\n",
    "\n",
    "sql5_7 = \"SELECT * FROM job_posts WHERE title NOT REGEXP 'Data Analyst';\"\n",
    "sql5_8 = \"SELECT * FROM job_posts WHERE title REGEXP 'Data Analyst' OR description REGEXP 'Data Analyst';\"\n",
    "sql5_9 = \"SELECT * FROM job_posts WHERE title REGEXP 'Data Analyst' AND description REGEXP 'Data Analyst';\"\n",
    "\n",
    "sql5_10 = \"SELECT * FROM job_posts WHERE title REGEXP 'Data Analyst|software engineer';\"\n",
    "sql5_11 = \"SELECT * FROM job_posts WHERE title REGEXP 'Data Analyst.*software engineer';\"\n",
    "sql5_12 = \"SELECT * FROM job_posts WHERE title REGEXP 'Data Analyst' OR title REGEXP 'software engineer';\"\n",
    "sql5_13 = \"SELECT * FROM job_posts WHERE title REGEXP 'Data Analyst' AND title REGEXP 'software engineer';\"\n",
    "\n",
    "sql6_1 = \"SELECT title, company_name, location FROM job_posts WHERE title = 'Data Analyst';\"\n",
    "sql6_2 = \"SELECT title, company_name, location FROM job_posts WHERE title LIKE '%Data Analyst%';\"\n",
    "sql6_3 = \"SELECT title, company_name, location FROM job_posts WHERE title REGEXP 'Data Analyst';\"\n",
    "\n",
    "sql7_1  = \"SELECT * FROM job_posts WHERE description REGEXP 'Job [a-zA-Z ]*[^a-zA-Z][a-zA-Z ]*Data Analyst';\"\n",
    "sql7_2 = \"SELECT * FROM job_posts WHERE description REGEXP '(Job [a-zA-Z ]*[^a-zA-Z][a-zA-Z ]*(d|D)ata (a|A)nalyst.*(j|J)ob (c|C)lassification[^a-zA-Z].*full.time|(c|C)ompensation:[a-zA-Z ]*(N|n)on[^a-zA-Z ][a-zA-Z ]*$\\b(1[0-9])\\b[^a-zA-Z ]*([3-9][0-9]))';\"\n",
    "\n",
    "\n",
    "# var_name = 'sql7_1'\n",
    "# print(globals()[var_name])\n",
    "\n",
    "for i in range(1,3):\n",
    "    for j in range(1,5):\n",
    "        results = []\n",
    "        for _ in range(30):\n",
    "            cursorObject1.execute(globals()[f'sql{i}_{j}'])\n",
    "            cursorObject1.execute('SHOW PROFILES;')\n",
    "            result = cursorObject1.fetchall()[-1][1]\n",
    "            results.append(result)\n",
    "        results_temp[f'{i}_{j}'] = results\n",
    "\n",
    "for i in range(3,5):\n",
    "    for j in range(1,5):\n",
    "        results = []\n",
    "        for _ in range(30):\n",
    "            cursorObject2.execute(globals()[f'sql{i}_{j}'])\n",
    "            cursorObject2.execute('SHOW PROFILES;')\n",
    "            result = cursorObject2.fetchall()[-1][1]\n",
    "            results.append(result)\n",
    "        results_temp[f'{i}_{j}'] = results\n",
    "\n",
    "for i in range(5,6):\n",
    "    for j in range(1,14):\n",
    "        results = []\n",
    "        for _ in range(30):\n",
    "            cursorObject2.execute(globals()[f'sql{i}_{j}'])\n",
    "            cursorObject2.execute('SHOW PROFILES;')\n",
    "            result = cursorObject2.fetchall()[-1][1]\n",
    "            results.append(result)\n",
    "        results_temp[f'{i}_{j}'] = results\n",
    "\n",
    "for i in range(6,7):\n",
    "    for j in range(1,4):\n",
    "        results = []\n",
    "        for _ in range(30):\n",
    "            cursorObject2.execute(globals()[f'sql{i}_{j}'])\n",
    "            cursorObject2.execute('SHOW PROFILES;')\n",
    "            result = cursorObject2.fetchall()[-1][1]\n",
    "            results.append(result)\n",
    "        results_temp[f'{i}_{j}'] = results\n",
    "\n",
    "for i in range(7,8):\n",
    "    for j in range(1,3):\n",
    "        results = []\n",
    "        for _ in range(30):\n",
    "            cursorObject2.execute(globals()[f'sql{i}_{j}'])\n",
    "            cursorObject2.execute('SHOW PROFILES;')\n",
    "            result = cursorObject2.fetchall()[-1][1]\n",
    "            results.append(result)\n",
    "        results_temp[f'{i}_{j}'] = results\n",
    "\n",
    "\n",
    "print(results_temp)\n",
    "# for row in results:\n",
    "#     print(row)"
   ]
  },
  {
   "cell_type": "code",
   "execution_count": 18,
   "metadata": {},
   "outputs": [],
   "source": [
    "# write the data into xlsx file.\n",
    "\n",
    "## Caution!! Sometimes the code cannot run properly when create the xlsx file, recommand you fist create the file in the folder where your notebook is, and with the name of your file_name. And then run this cell.\n",
    "\n",
    "## if you do not know the path, you can run the code below:\n",
    "# import os\n",
    "# os.getcwd()\n",
    "\n",
    "# export the data \n",
    "df = pd.DataFrame(results_temp)\n",
    "file_name = 'Final_data_temp_version2.xlsx' \n",
    "sheet_name = 'mysql'\n",
    "\n",
    "with pd.ExcelWriter(file_name, engine='openpyxl', mode='a') as writer: \n",
    "    df.to_excel(writer, sheet_name=sheet_name, index=False)"
   ]
  },
  {
   "cell_type": "code",
   "execution_count": 104,
   "metadata": {},
   "outputs": [
    {
     "name": "stdout",
     "output_type": "stream",
     "text": [
      "30\n",
      "{'2_1': [23.486208, 23.5464183, 23.6047905, 23.326783, 23.2041084, 23.5167422, 23.2144701, 23.4025123, 23.8768397, 23.4097698, 23.5593348, 23.7699243, 23.5054028, 23.0516048, 23.5731848, 23.4264016, 24.059889, 23.246063, 23.483651, 23.4378564, 23.4450959, 23.9085963, 23.6364069, 23.4774235, 23.3406286, 23.4958421, 23.859897, 23.5667177, 23.2637782, 23.4625975], '2_2': [23.2146577, 23.3039669, 23.6743402, 23.4393634, 23.5520398, 23.6538251, 24.0079107, 23.4127356, 23.3319688, 23.2369617, 23.2866405, 23.5430996, 23.1300862, 23.7779437, 23.1463013, 23.5155885, 23.223267, 23.3270412, 23.9601978, 23.4721059, 23.815954, 23.4045426, 23.5038986, 23.073744, 23.8073007, 23.2288427, 23.5594326, 23.1990272, 23.2179561, 23.5730064], '2_3': [31.6637238, 30.457967, 31.1364729, 30.78395, 30.4197308, 31.3044397, 30.7769967, 30.524285, 30.6201956, 34.8077187, 31.0874964, 30.5741483, 30.8189501, 30.7131041, 32.0097944, 30.4829847, 30.9251549, 30.9719188, 31.1005041, 30.6406518, 31.0109199, 30.6476855, 30.889744, 30.3926935, 30.8056742, 30.3178888, 30.7932748, 30.311359, 30.5861971, 30.8527779], '2_4': [30.8626532, 31.236271, 31.4392539, 31.1252322, 31.1593205, 31.1308224, 30.9293228, 31.554673, 30.9991076, 31.197048, 31.0032454, 31.0051371, 30.9109469, 31.1797215, 30.9260374, 31.225142, 30.9822493, 31.244428, 31.0462223, 31.2329302, 31.0619712, 31.2261395, 30.8680789, 31.1289436, 30.9566652, 31.3375666, 35.5750037, 31.8954437, 31.1903733, 32.1576378]}\n"
     ]
    }
   ],
   "source": [
    "# print(len(results))\n",
    "# print(results_temp)"
   ]
  },
  {
   "cell_type": "code",
   "execution_count": 12,
   "metadata": {},
   "outputs": [],
   "source": [
    "# Disconnecting from server, you can just disconnect from your xmapp.\n",
    "\n",
    "# cursorObject1.execute('SET profiling = 0;')\n",
    "# cursorObject2.execute('SET profiling = 0;')\n",
    "cursorObject1.close()\n",
    "dataBase1.close()\n",
    "cursorObject2.close()\n",
    "dataBase2.close()"
   ]
  },
  {
   "cell_type": "code",
   "execution_count": 107,
   "metadata": {},
   "outputs": [
    {
     "data": {
      "image/png": "[encoded data removed]",
      "text/plain": [
       "<Figure size 640x480 with 1 Axes>"
      ]
     },
     "metadata": {},
     "output_type": "display_data"
    }
   ],
   "source": [
    "import matplotlib.pyplot as plt\n",
    "for key, value in results_temp.items():\n",
    "    plt.plot(results_temp[key], label = key)\n",
    "plt.legend()    \n",
    "plt.show()"
   ]
  },
  {
   "cell_type": "markdown",
   "metadata": {},
   "source": [
    "#### MongoDB"
   ]
  },
  {
   "cell_type": "markdown",
   "metadata": {},
   "source": [
    "##### remember to %pip install pymongo"
   ]
  },
  {
   "cell_type": "code",
   "execution_count": 19,
   "metadata": {},
   "outputs": [],
   "source": [
    "# %pip install pymongo\n",
    "\n",
    "## And then import the database and collection\n",
    "import pymongo\n",
    "client = pymongo.MongoClient(\"mongodb://localhost:27017/\")\n",
    "db = client[\"Jobs\"]\n",
    "collection = db[\"job_posts2\"]\n",
    "\n",
    "from math import *"
   ]
  },
  {
   "cell_type": "code",
   "execution_count": 20,
   "metadata": {},
   "outputs": [],
   "source": [
    "## define the average function\n",
    "def avg(x):\n",
    "    return sum(x)/len(x)"
   ]
  },
  {
   "cell_type": "code",
   "execution_count": 21,
   "metadata": {},
   "outputs": [
    {
     "name": "stdout",
     "output_type": "stream",
     "text": [
      "{'M1': 'query_M1', 'M2': 'query_M2', 'M3': 'query_M3', 'M4': 'query_M4', 'M5': 'query_M5', 'M6': 'query_M6', 'M7': 'query_M7', 'M8': 'query_M8', 'M9': 'query_M9', 'M10': 'query_M10', 'M11': 'query_M11', 'M12': 'query_M12', 'M13': 'query_M13', 'M14': 'query_M14', 'M15': 'query_M15', 'M16': 'query_M16', 'M17': 'query_M17', 'M18': 'query_M18', 'M19': 'query_M19', 'M20': 'query_M20'} \n",
      " {'M1': [], 'M2': [], 'M3': [], 'M4': [], 'M5': [], 'M6': [], 'M7': [], 'M8': [], 'M9': [], 'M10': [], 'M11': [], 'M12': [], 'M13': [], 'M14': [], 'M15': [], 'M16': [], 'M17': [], 'M18': [], 'M19': [], 'M20': []}\n",
      "10152\n"
     ]
    }
   ],
   "source": [
    "## define the queries and empty results\n",
    "class MyFunctions:\n",
    "    def query_M1(self):\n",
    "        return db.job_posts2.find({'description' : 'Data Analyst'}).explain()['executionStats']['executionTimeMillis']\n",
    "    def query_M2(self):\n",
    "        return db.job_posts2.find({'description' : { '$in': ['Data Analyst']}}).explain()['executionStats']['executionTimeMillis']\n",
    "    def query_M3(self):\n",
    "        return db.job_posts2.find({'description': {'$regex': 'Data Analyst'}}).explain()['executionStats']['executionTimeMillis']\n",
    "    def query_M4(self):\n",
    "        return db.job_posts2.find({'title' : 'Data Analyst'}).explain()['executionStats']['executionTimeMillis']\n",
    "    def query_M5(self):\n",
    "        return db.job_posts2.find({'title' : { '$in': ['Data Analyst']}}).explain()['executionStats']['executionTimeMillis']\n",
    "    def query_M6(self):\n",
    "        return db.job_posts2.find({'title' : {'$regex': 'Data Analyst'}}).explain()['executionStats']['executionTimeMillis']\n",
    "    def query_M7(self):\n",
    "        return db.job_posts2.find({'title' : {'$not' : {'$eq':'Data Analyst'}}}).explain()['executionStats']['executionTimeMillis']\n",
    "    def query_M8(self):\n",
    "        return db.job_posts2.find({'title' : {'$not' : {'$regex': 'Data Analyst'}}}).explain()['executionStats']['executionTimeMillis']\n",
    "    def query_M9(self):\n",
    "        return db.job_posts2.find({'$or' : [{'title' : 'Data Analyst'} , {'description' : 'Data Analyst'}]}).explain()['executionStats']['executionTimeMillis']\n",
    "    def query_M10(self):\n",
    "        return db.job_posts2.find({'$or' : [{'title' : {'$regex': 'Data Analyst'}} , {'description' : {'$regex': 'Data Analyst'}}]}).explain()['executionStats']['executionTimeMillis']\n",
    "    def query_M11(self):\n",
    "        return db.job_posts2.find({'$and' : [{'title' : 'Data Analyst'} , {'description' : 'Data Analyst'}]}).explain()['executionStats']['executionTimeMillis']\n",
    "    def query_M12(self):\n",
    "        return db.job_posts2.find({'$and' : [{'title' : {'$regex': 'Data Analyst'}} , {'description' : {'$regex': 'Data Analyst'}}]}).explain()['executionStats']['executionTimeMillis']\n",
    "    def query_M13(self):\n",
    "        return db.job_posts2.find({'title' : {'$regex': 'Data Analyst|software engineer'}}).explain()['executionStats']['executionTimeMillis']\n",
    "    def query_M14(self):\n",
    "        return db.job_posts2.find({'title' : {'$regex': 'Data Analyst.*software engineer'}}).explain()['executionStats']['executionTimeMillis']\n",
    "    def query_M15(self):\n",
    "        return db.job_posts2.find({'$or' : [{'title' : {'$regex': 'Data Analyst'}} , {'title' : {'$regex': 'software engineer'}}]}).explain()['executionStats']['executionTimeMillis']\n",
    "    def query_M16(self):\n",
    "        return db.job_posts2.find({'$and' : [{'title' : {'$regex': 'Data Analyst'}} , {'title' : {'$regex': 'software engineer'}}]}).explain()['executionStats']['executionTimeMillis']\n",
    "    def query_M17(self):\n",
    "        return db.job_posts2.find({'title' : 'Data Analyst'},{'title':1, 'company_name':1, 'location':1 }).explain()['executionStats']['executionTimeMillis']\n",
    "    def query_M18(self):\n",
    "        return db.job_posts2.find({'title' : {'$regex': 'Data Analyst'}},{'title':1, 'company_name':1, 'location':1 }).explain()['executionStats']['executionTimeMillis']\n",
    "    def query_M19(self):\n",
    "        return db.job_posts2.find({'description': {'$regex': 'Job [a-zA-Z ]*[^a-zA-Z][a-zA-Z ]*Data Analyst'}}).explain()['executionStats']['executionTimeMillis']\n",
    "    def query_M20(self):\n",
    "        return db.job_posts2.find({'description': {'$regex': '(Job [a-zA-Z ]*[^a-zA-Z][a-zA-Z ]*(d|D)ata (a|A)nalyst.*(j|J)ob (c|C)lassification[^a-zA-Z].*full.time|(c|C)ompensation:[a-zA-Z ]*(N|n)on[^a-zA-Z ][a-zA-Z ]*$\\b(1[0-9])\\b[^a-zA-Z ]*([3-9][0-9]))'}}).explain()['executionStats']['executionTimeMillis']\n",
    "\n",
    "query = {}\n",
    "for i in range(1,21):\n",
    "    query['M'+str(i)] = 'query_M'+ str(i)\n",
    "results = {}\n",
    "for key, value in query.items():\n",
    "    results[key] = []\n",
    "\n",
    "print(query,'\\n',results)\n",
    "T =  getattr(MyFunctions(), query['M4'])()\n",
    "print(T)\n"
   ]
  },
  {
   "cell_type": "code",
   "execution_count": 22,
   "metadata": {},
   "outputs": [
    {
     "name": "stdout",
     "output_type": "stream",
     "text": [
      "282.3\n",
      "{'M1': [339, 310, 326, 281, 293, 272, 276, 311, 280, 268, 278, 280, 270, 269, 268, 278, 290, 270, 276, 280, 272, 276, 279, 269, 270, 290, 277, 274, 269, 278], 'M2': [309, 269, 264, 283, 270, 273, 276, 275, 273, 261, 276, 268, 280, 265, 276, 265, 261, 274, 267, 267, 263, 270, 263, 264, 263, 296, 265, 265, 269, 281], 'M3': [3140, 4046, 3559, 3217, 3045, 3297, 3008, 2941, 2985, 2964, 2935, 2942, 2958, 2977, 3188, 2950, 2949, 2887, 2896, 3060, 2921, 2950, 2935, 2932, 2959, 2950, 3346, 2901, 2924, 2932], 'M4': [266, 251, 257, 269, 255, 260, 256, 269, 258, 259, 264, 269, 256, 265, 270, 263, 257, 258, 275, 265, 257, 265, 277, 262, 262, 259, 269, 261, 258, 274], 'M5': [265, 266, 253, 270, 256, 260, 278, 271, 258, 257, 260, 278, 256, 257, 260, 276, 266, 256, 273, 258, 273, 262, 403, 509, 301, 264, 264, 261, 272, 259], 'M6': [551, 894, 694, 562, 553, 592, 539, 564, 545, 606, 601, 541, 553, 549, 569, 539, 567, 534, 576, 566, 557, 566, 533, 589, 835, 553, 548, 552, 557, 573], 'M7': [320, 292, 286, 305, 283, 286, 296, 290, 289, 291, 300, 293, 286, 297, 288, 285, 300, 286, 292, 288, 321, 290, 287, 303, 286, 297, 282, 294, 277, 288], 'M8': [705, 616, 565, 572, 832, 888, 582, 745, 539, 615, 791, 534, 558, 885, 883, 892, 882, 628, 561, 540, 568, 567, 557, 539, 564, 551, 574, 565, 542, 557], 'M9': [383, 364, 350, 358, 355, 370, 341, 361, 349, 347, 360, 351, 350, 361, 352, 375, 362, 346, 366, 358, 349, 376, 372, 343, 367, 349, 364, 357, 347, 360], 'M10': [3404, 3136, 3129, 3208, 3450, 3168, 3123, 3209, 3176, 3148, 3365, 3472, 3403, 3188, 3652, 3239, 3225, 3179, 3304, 3320, 3252, 3182, 3140, 3167, 3225, 3270, 3196, 3161, 3157, 4173], 'M11': [312, 322, 439, 565, 400, 471, 388, 367, 318, 319, 301, 319, 306, 307, 315, 303, 309, 319, 298, 318, 331, 398, 316, 297, 350, 308, 305, 346, 308, 297], 'M12': [3104, 5018, 4588, 4426, 4317, 3677, 3547, 4234, 4337, 3841, 3868, 4024, 4291, 3665, 3734, 3083, 3089, 3549, 3083, 3112, 3096, 3113, 3099, 3493, 3065, 3052, 3041, 3088, 3097, 3492], 'M13': [600, 573, 556, 602, 579, 804, 635, 921, 984, 590, 559, 583, 566, 599, 576, 574, 571, 566, 597, 570, 582, 581, 571, 566, 581, 574, 549, 573, 608, 573], 'M14': [566, 518, 528, 521, 536, 536, 550, 517, 540, 535, 610, 571, 527, 543, 534, 537, 532, 534, 524, 538, 527, 550, 537, 534, 525, 559, 535, 541, 548, 536], 'M15': [672, 653, 660, 687, 695, 649, 680, 666, 1031, 971, 690, 671, 681, 665, 680, 712, 675, 660, 677, 673, 656, 669, 685, 661, 677, 699, 664, 682, 706, 653], 'M16': [720, 700, 693, 695, 861, 694, 983, 688, 736, 707, 685, 690, 704, 688, 685, 699, 717, 672, 701, 710, 708, 676, 701, 721, 697, 708, 804, 705, 681, 791], 'M17': [360, 295, 285, 282, 301, 281, 291, 279, 290, 283, 288, 290, 289, 285, 291, 294, 286, 311, 306, 283, 282, 278, 296, 296, 281, 299, 284, 284, 296, 286], 'M18': [681, 661, 684, 661, 680, 670, 664, 674, 672, 678, 656, 666, 662, 661, 776, 812, 750, 649, 682, 987, 987, 711, 675, 707, 667, 656, 672, 687, 670, 709], 'M19': [3133, 3252, 3099, 3116, 3081, 3370, 3132, 3073, 3105, 3098, 3065, 3076, 3089, 3154, 3226, 3225, 3334, 3124, 3106, 3130, 3091, 3162, 3204, 3149, 3129, 3116, 3064, 3089, 3064, 3053], 'M20': [13432, 13866, 13563, 13684, 13580, 14165, 13392, 12943, 13223, 13210, 13220, 13402, 13121, 12860, 13183, 13807, 13189, 14428, 13624, 13522, 13097, 12984, 13769, 13487, 13657, 13642, 13853, 13725, 13847, 13601]}\n"
     ]
    }
   ],
   "source": [
    "for key, value in query.items():\n",
    "    for j in range(30):\n",
    "        result = getattr(MyFunctions(), value)()\n",
    "        # print(result)\n",
    "        results[key].append(result)\n",
    "print(avg(results['M1']))\n",
    "print(results)"
   ]
  },
  {
   "cell_type": "code",
   "execution_count": 23,
   "metadata": {},
   "outputs": [],
   "source": [
    "\n",
    "import pandas as pd\n",
    "df = pd.DataFrame(results)\n",
    "file_name = 'Final_data_temp_version2.xlsx' \n",
    "sheet_name = 'MongoDB'\n",
    "\n",
    "with pd.ExcelWriter(file_name, engine='openpyxl', mode='a') as writer: \n",
    "    df.to_excel(writer, sheet_name=sheet_name, index=False)"
   ]
  },
  {
   "cell_type": "markdown",
   "metadata": {},
   "source": [
    "## export part"
   ]
  },
  {
   "cell_type": "code",
   "execution_count": 91,
   "metadata": {},
   "outputs": [
    {
     "data": {
      "text/plain": [
       "'e:\\\\personal\\\\Textbook_and_others\\\\6102 Data Warehousing\\\\Final_Project'"
      ]
     },
     "execution_count": 91,
     "metadata": {},
     "output_type": "execute_result"
    }
   ],
   "source": [
    "# import os\n",
    "# os.getcwd()"
   ]
  },
  {
   "cell_type": "code",
   "execution_count": 90,
   "metadata": {},
   "outputs": [],
   "source": [
    "## export the mongoDB query results to xlsx\n",
    "# df = pd.DataFrame(results)\n",
    "\n",
    "# file_name = 'output1.xlsx' \n",
    "# sheet_name = 'MongoDB'\n",
    "\n",
    "# with pd.ExcelWriter(file_name, engine='openpyxl', mode='a') as writer: \n",
    "#     df.to_excel(writer, sheet_name=sheet_name, index=False)"
   ]
  }
 ],
 "metadata": {
  "kernelspec": {
   "display_name": "base",
   "language": "python",
   "name": "python3"
  },
  "language_info": {
   "codemirror_mode": {
    "name": "ipython",
    "version": 3
   },
   "file_extension": ".py",
   "mimetype": "text/x-python",
   "name": "python",
   "nbconvert_exporter": "python",
   "pygments_lexer": "ipython3",
   "version": "3.9.18"
  }
 },
 "nbformat": 4,
 "nbformat_minor": 2
}
